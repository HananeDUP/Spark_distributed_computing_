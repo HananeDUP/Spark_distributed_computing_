{
 "cells": [
  {
   "cell_type": "markdown",
   "metadata": {},
   "source": [
    "# Spark Lab Session, 27/04/20"
   ]
  },
  {
   "cell_type": "markdown",
   "metadata": {},
   "source": [
    "# 1 - Initialize the environment"
   ]
  },
  {
   "cell_type": "code",
   "execution_count": 1,
   "metadata": {},
   "outputs": [
    {
     "data": {
      "text/html": [
       "\n",
       "        <div>\n",
       "            <p><b>SparkContext</b></p>\n",
       "\n",
       "            <p><a href=\"http://137.194.192.178:6750\">Spark UI</a></p>\n",
       "\n",
       "            <dl>\n",
       "              <dt>Version</dt>\n",
       "                <dd><code>v2.4.4</code></dd>\n",
       "              <dt>Master</dt>\n",
       "                <dd><code>local[4]</code></dd>\n",
       "              <dt>AppName</dt>\n",
       "                <dd><code>PySparkShell</code></dd>\n",
       "            </dl>\n",
       "        </div>\n",
       "        "
      ],
      "text/plain": [
       "<SparkContext master=local[4] appName=PySparkShell>"
      ]
     },
     "execution_count": 1,
     "metadata": {},
     "output_type": "execute_result"
    }
   ],
   "source": [
    "sc # this should print Spark Context, if it does not, shut down all your kernels\n",
    "# (for this go back to dashboard -> running and shutdown kernel by kernel)"
   ]
  },
  {
   "cell_type": "markdown",
   "metadata": {},
   "source": [
    "# 2 - Playing with RDDs"
   ]
  },
  {
   "cell_type": "markdown",
   "metadata": {},
   "source": [
    "## 2.1 Compute the RDD containing the set $L$ of integers, with $L = \\{ 0 ... 2999 \\}$"
   ]
  },
  {
   "cell_type": "code",
   "execution_count": 2,
   "metadata": {},
   "outputs": [],
   "source": [
    "from operator import add"
   ]
  },
  {
   "cell_type": "code",
   "execution_count": 3,
   "metadata": {},
   "outputs": [
    {
     "data": {
      "text/plain": [
       "4498500"
      ]
     },
     "execution_count": 3,
     "metadata": {},
     "output_type": "execute_result"
    }
   ],
   "source": [
    "l=range(3000)\n",
    "d1= sc.parallelize(l)\n",
    "d1.reduce(add)"
   ]
  },
  {
   "cell_type": "code",
   "execution_count": 4,
   "metadata": {},
   "outputs": [
    {
     "data": {
      "text/plain": [
       "[0, 1, 2, 3, 4]"
      ]
     },
     "execution_count": 4,
     "metadata": {},
     "output_type": "execute_result"
    }
   ],
   "source": [
    "d1.take(5)"
   ]
  },
  {
   "cell_type": "markdown",
   "metadata": {},
   "source": [
    "## 2.2 Compute RDD containing the set $C = \\{ x^3 | x ∈ L \\}$"
   ]
  },
  {
   "cell_type": "code",
   "execution_count": 5,
   "metadata": {},
   "outputs": [],
   "source": [
    "c=d1.map(lambda x: x**3)"
   ]
  },
  {
   "cell_type": "code",
   "execution_count": 6,
   "metadata": {},
   "outputs": [
    {
     "data": {
      "text/plain": [
       "[0, 1, 8, 27, 64]"
      ]
     },
     "execution_count": 6,
     "metadata": {},
     "output_type": "execute_result"
    }
   ],
   "source": [
    "c.take(5)"
   ]
  },
  {
   "cell_type": "markdown",
   "metadata": {},
   "source": [
    "### Compute the sum of elements in $C$ (i.e. $\\Sigma_{x\\in C} x$)."
   ]
  },
  {
   "cell_type": "code",
   "execution_count": 7,
   "metadata": {},
   "outputs": [
    {
     "data": {
      "text/plain": [
       "20236502250000"
      ]
     },
     "execution_count": 7,
     "metadata": {},
     "output_type": "execute_result"
    }
   ],
   "source": [
    "c.reduce(add)"
   ]
  },
  {
   "cell_type": "markdown",
   "metadata": {},
   "source": [
    "## 2.3 What is the repartition for the last digits of integers in C? i.e. how many end with a 0? with a 1? etc."
   ]
  },
  {
   "cell_type": "markdown",
   "metadata": {},
   "source": [
    "DO: Compute an RDD containing a set of pairs (0, v0), . . . ,(9, v9) where vi\n",
    "is the number of integers in C\n",
    "having i for last digit.\n",
    "The last digit of an integer i can be computed using (i%10)."
   ]
  },
  {
   "cell_type": "code",
   "execution_count": 8,
   "metadata": {},
   "outputs": [],
   "source": [
    "def last_digit(i): #returns the last digit of the positive integer i\n",
    "    return i%10"
   ]
  },
  {
   "cell_type": "code",
   "execution_count": 9,
   "metadata": {},
   "outputs": [
    {
     "name": "stdout",
     "output_type": "stream",
     "text": [
      "0 300\n",
      "1 300\n",
      "2 300\n",
      "3 300\n",
      "4 300\n",
      "5 300\n",
      "6 300\n",
      "7 300\n",
      "8 300\n",
      "9 300\n"
     ]
    }
   ],
   "source": [
    "v=c.map(lambda x : last_digit(x))\n",
    "vr=v.map(lambda x : (x,1))\n",
    "for k, v in vr.groupByKey().mapValues(lambda x:sum(x)).sortByKey().collect():\n",
    "    print(k,v)"
   ]
  },
  {
   "cell_type": "code",
   "execution_count": 10,
   "metadata": {},
   "outputs": [
    {
     "name": "stdout",
     "output_type": "stream",
     "text": [
      "0 300\n",
      "1 300\n",
      "2 300\n",
      "3 300\n",
      "4 300\n",
      "5 300\n",
      "6 300\n",
      "7 300\n",
      "8 300\n",
      "9 300\n"
     ]
    }
   ],
   "source": [
    "for k, v in vr.reduceByKey(add).sortByKey().collect():\n",
    "    print(k,v)"
   ]
  },
  {
   "cell_type": "markdown",
   "metadata": {},
   "source": [
    "## 2.4 What is the repartition of digits for the integers in C?"
   ]
  },
  {
   "cell_type": "code",
   "execution_count": 11,
   "metadata": {},
   "outputs": [],
   "source": [
    "def digits(i): #return the list of digits of the positive integer i\n",
    "    return list(str(i))"
   ]
  },
  {
   "cell_type": "code",
   "execution_count": 12,
   "metadata": {},
   "outputs": [
    {
     "name": "stdout",
     "output_type": "stream",
     "text": [
      "0 3127\n",
      "1 3667\n",
      "2 3294\n",
      "3 2814\n",
      "4 2762\n",
      "5 2653\n",
      "6 2713\n",
      "7 2787\n",
      "8 2639\n",
      "9 2521\n"
     ]
    }
   ],
   "source": [
    "dig=c.flatMap(lambda x : digits(x))\n",
    "dig=dig.map(lambda x: (int(x),1))\n",
    "for k, v in dig.reduceByKey(add).sortByKey().collect():\n",
    "    print(k,v)"
   ]
  },
  {
   "cell_type": "code",
   "execution_count": 13,
   "metadata": {},
   "outputs": [
    {
     "data": {
      "text/plain": [
       "[(0, 1), (1, 1), (8, 1), (2, 1), (7, 1)]"
      ]
     },
     "execution_count": 13,
     "metadata": {},
     "output_type": "execute_result"
    }
   ],
   "source": [
    "dig.take(5)"
   ]
  },
  {
   "cell_type": "code",
   "execution_count": 14,
   "metadata": {},
   "outputs": [],
   "source": [
    "# import functools\n",
    "# import operator\n",
    "# cols_feat_flat=functools.reduce(operator.concat, cols_feat)\n",
    "# uniq_feat=np.unique(cols_feat_flat)\n",
    "# len(uniq_feat)"
   ]
  },
  {
   "cell_type": "markdown",
   "metadata": {},
   "source": [
    "# 3 - Computation of $\\pi$\n",
    "\n",
    "To compute the value of $\\pi$, you will generate the list of all pairs (x,y) of integers from $0$ to $K-1$. Then you will compute the number of such pairs such that $x^2+y^2\\leq K$. The ratio between the number of such pairs and the number of total pairs is an approximation of $\\pi$.\n",
    "For $K=3000$ you should obtain a value close to 3.1416."
   ]
  },
  {
   "cell_type": "markdown",
   "metadata": {},
   "source": [
    "## 3.1 compute the set of  $\\{ (x,y) | 0 \\leq x,y \\leq K \\}$"
   ]
  },
  {
   "cell_type": "code",
   "execution_count": 15,
   "metadata": {},
   "outputs": [],
   "source": [
    "k=3000\n",
    "l1=range(k)\n",
    "rdd=sc.parallelize(l1)\n",
    "rddPi=rdd.cartesian(rdd)"
   ]
  },
  {
   "cell_type": "code",
   "execution_count": 16,
   "metadata": {},
   "outputs": [
    {
     "data": {
      "text/plain": [
       "[(0, 0), (0, 1), (0, 2), (0, 3), (0, 4)]"
      ]
     },
     "execution_count": 16,
     "metadata": {},
     "output_type": "execute_result"
    }
   ],
   "source": [
    "rddPi.take(5)"
   ]
  },
  {
   "cell_type": "markdown",
   "metadata": {},
   "source": [
    "## 3.2 compute the number of pairs such that $x^2+y^2\\leq K$"
   ]
  },
  {
   "cell_type": "code",
   "execution_count": 17,
   "metadata": {},
   "outputs": [
    {
     "name": "stdout",
     "output_type": "stream",
     "text": [
      "[(1, 1, 2), (1, 9, 10), (1, 25, 26), (1, 49, 50), (1, 81, 82)]\n"
     ]
    },
    {
     "data": {
      "text/plain": [
       "7068585"
      ]
     },
     "execution_count": 17,
     "metadata": {},
     "output_type": "execute_result"
    }
   ],
   "source": [
    "rddPi=rddPi.map(lambda x: ((2*x[0]+1)**2,(2*x[1]+1)**2))\n",
    "rddPi2=rddPi.map(lambda x: (x[0],x[1],x[0]+x[1]))\n",
    "\n",
    "filterPi=rddPi2.filter(lambda x: x[2]<=(2*k)**2)\n",
    "print(filterPi.take(5))\n",
    "\n",
    "nbFilter=filterPi.count()\n",
    "nbFilter"
   ]
  },
  {
   "cell_type": "markdown",
   "metadata": {},
   "source": [
    "## 3.3 What is your approximation of $\\pi$ ?"
   ]
  },
  {
   "cell_type": "code",
   "execution_count": 18,
   "metadata": {},
   "outputs": [
    {
     "name": "stdout",
     "output_type": "stream",
     "text": [
      "9000000\n"
     ]
    },
    {
     "data": {
      "text/plain": [
       "3.1415933333333332"
      ]
     },
     "execution_count": 18,
     "metadata": {},
     "output_type": "execute_result"
    }
   ],
   "source": [
    "nbPairs=k**2\n",
    "print(nbPairs)\n",
    "# allPairs=pi2.count()\n",
    "\n",
    "pi=4*nbFilter/nbPairs\n",
    "pi"
   ]
  },
  {
   "cell_type": "markdown",
   "metadata": {},
   "source": [
    "# 4 - Playing with the movie Lens dataset\n",
    "## 4.1 Readings files into RDD"
   ]
  },
  {
   "cell_type": "code",
   "execution_count": 19,
   "metadata": {},
   "outputs": [],
   "source": [
    "# path=r\"C:\\Users\\Hanane\\Documents\\Python_Scripts\\TelecomParis\\Module_11_Calcul_Disribue\\ml-latest-small\""
   ]
  },
  {
   "cell_type": "code",
   "execution_count": 20,
   "metadata": {},
   "outputs": [],
   "source": [
    "import re\n",
    "future_pattern = re.compile(\"\"\"([^,\"]+|\"[^\"]+\")(?=,|$)\"\"\")\n",
    "\n",
    "def parseCSV(line):\n",
    "     return future_pattern.findall(line)\n",
    "\n",
    "#ratingsFile = sc.textFile(\"hdfs:///datasets/movielens/ratings.csv\").map(parseCSV)\n",
    "#moviesFile = sc.textFile(\"hdfs:///datasets/movielens/movies.csv\").map(parseCSV)\n",
    "\n",
    "\n",
    "# For your tests I propose that you start with these smaller datasets\n",
    "# \n",
    "ratingsFile = sc.textFile(\"hdfs:///datasets/movie_small/ratings.csv\").map(parseCSV)\n",
    "moviesFile = sc.textFile(\"hdfs:///datasets/movie_small/movies.csv\").map(parseCSV)\n",
    "\n",
    "# ratingsFile = sc.textFile(path+\"//ratings.csv\").map(parseCSV)\n",
    "# moviesFile = sc.textFile(path+\"//movies.csv\").map(parseCSV)"
   ]
  },
  {
   "cell_type": "markdown",
   "metadata": {},
   "source": [
    "### 4.2 Check-out what is the data in your RDD"
   ]
  },
  {
   "cell_type": "code",
   "execution_count": 21,
   "metadata": {},
   "outputs": [
    {
     "data": {
      "text/plain": [
       "[['userId', 'movieId', 'rating', 'timestamp'],\n",
       " ['1', '1', '4.0', '964982703'],\n",
       " ['1', '3', '4.0', '964981247'],\n",
       " ['1', '6', '4.0', '964982224']]"
      ]
     },
     "execution_count": 21,
     "metadata": {},
     "output_type": "execute_result"
    }
   ],
   "source": [
    "ratingsFile.take(4)"
   ]
  },
  {
   "cell_type": "code",
   "execution_count": 22,
   "metadata": {},
   "outputs": [
    {
     "data": {
      "text/plain": [
       "[['movieId', 'title', 'genres'],\n",
       " ['1', 'Toy Story (1995)', 'Adventure|Animation|Children|Comedy|Fantasy'],\n",
       " ['2', 'Jumanji (1995)', 'Adventure|Children|Fantasy'],\n",
       " ['3', 'Grumpier Old Men (1995)', 'Comedy|Romance']]"
      ]
     },
     "execution_count": 22,
     "metadata": {},
     "output_type": "execute_result"
    }
   ],
   "source": [
    "moviesFile.take(4)"
   ]
  },
  {
   "cell_type": "markdown",
   "metadata": {},
   "source": [
    "## 4.3 Cleaning data: find a way to discard the first line"
   ]
  },
  {
   "cell_type": "markdown",
   "metadata": {},
   "source": [
    "Both RDDs (ratingsFile and moviesFile) contain the data from the CSV and columns have been split,\n",
    "however the data is still raw : all fields are strings and the header of the dataset is still here.\n",
    "DO: Using filter and map remove the header of the CSV file and cast the third column of ratingsFile\n",
    "to float create an RDD containing the ratings and movies"
   ]
  },
  {
   "cell_type": "code",
   "execution_count": 23,
   "metadata": {},
   "outputs": [
    {
     "data": {
      "text/plain": [
       "[['1', '1', '4.0', '964982703'],\n",
       " ['1', '3', '4.0', '964981247'],\n",
       " ['1', '6', '4.0', '964982224'],\n",
       " ['1', '47', '5.0', '964983815'],\n",
       " ['1', '50', '5.0', '964982931']]"
      ]
     },
     "execution_count": 23,
     "metadata": {},
     "output_type": "execute_result"
    }
   ],
   "source": [
    "headerR = ratingsFile.first() #extract header\n",
    "ratings = ratingsFile.filter(lambda row: row != headerR) \n",
    "\n",
    "ratings.take(5)"
   ]
  },
  {
   "cell_type": "code",
   "execution_count": 95,
   "metadata": {},
   "outputs": [
    {
     "data": {
      "text/plain": [
       "[['1', 'Toy Story (1995)', 'Adventure|Animation|Children|Comedy|Fantasy'],\n",
       " ['2', 'Jumanji (1995)', 'Adventure|Children|Fantasy'],\n",
       " ['3', 'Grumpier Old Men (1995)', 'Comedy|Romance'],\n",
       " ['4', 'Waiting to Exhale (1995)', 'Comedy|Drama|Romance'],\n",
       " ['5', 'Father of the Bride Part II (1995)', 'Comedy']]"
      ]
     },
     "execution_count": 95,
     "metadata": {},
     "output_type": "execute_result"
    }
   ],
   "source": [
    "headerM = moviesFile.first() #extract header\n",
    "movies = moviesFile.filter(lambda row: row != headerM) \n",
    "movies.take(5)"
   ]
  },
  {
   "cell_type": "markdown",
   "metadata": {},
   "source": [
    "##### Converting the note from string to float"
   ]
  },
  {
   "cell_type": "code",
   "execution_count": 25,
   "metadata": {},
   "outputs": [],
   "source": [
    "def cols_change(col):\n",
    "    for i,elem in enumerate(col):\n",
    "        if i==2:\n",
    "            col[i]=float(elem)\n",
    "    return col"
   ]
  },
  {
   "cell_type": "code",
   "execution_count": 26,
   "metadata": {},
   "outputs": [
    {
     "data": {
      "text/plain": [
       "[['1', '1', 4.0, '964982703'],\n",
       " ['1', '3', 4.0, '964981247'],\n",
       " ['1', '6', 4.0, '964982224'],\n",
       " ['1', '47', 5.0, '964983815']]"
      ]
     },
     "execution_count": 26,
     "metadata": {},
     "output_type": "execute_result"
    }
   ],
   "source": [
    "# ratings=ratings.map(lambda x : [x[0],x[1],float(x[2]),x[3]])\n",
    "# ratings=ratings.map(lambda x : [float(x[i]) for i,value in enumerate(x) if i=2])\n",
    "ratings=ratings.map(lambda x : cols_change(x))\n",
    "ratings.take(4)"
   ]
  },
  {
   "cell_type": "markdown",
   "metadata": {},
   "source": [
    "##### create an RDD containing the ratings and movies"
   ]
  },
  {
   "cell_type": "code",
   "execution_count": 108,
   "metadata": {},
   "outputs": [
    {
     "data": {
      "text/plain": [
       "[('50', (('1', 5.0), '\"Usual Suspects, The (1995)\"')),\n",
       " ('50', (('5', 4.0), '\"Usual Suspects, The (1995)\"')),\n",
       " ('50', (('6', 1.0), '\"Usual Suspects, The (1995)\"')),\n",
       " ('50', (('7', 4.5), '\"Usual Suspects, The (1995)\"')),\n",
       " ('50', (('8', 5.0), '\"Usual Suspects, The (1995)\"'))]"
      ]
     },
     "execution_count": 108,
     "metadata": {},
     "output_type": "execute_result"
    }
   ],
   "source": [
    "ratings.map(lambda x: (x[1],(x[0],x[2]))).join(movies.map(lambda x:(x[0],x[1]))).take(5)\n",
    "#movieId, (userId,rating) & movieId,movieName ==> after join movieId,((userId,rating),name)"
   ]
  },
  {
   "cell_type": "markdown",
   "metadata": {},
   "source": [
    "## 4.4 Compute the 10 best rated movies \n",
    " 1. sum(ratings)/numberOfRatings"
   ]
  },
  {
   "cell_type": "markdown",
   "metadata": {},
   "source": [
    "DO: Compute the 10 movieId that have the best average rating. Hint : use sortBy and take to select the best\n",
    "movies"
   ]
  },
  {
   "cell_type": "markdown",
   "metadata": {},
   "source": [
    "lesson\n",
    "Input.map(lambda x: (x[0],(x[1],1))).reduceByKey(lambda x,y: (x[0]+y[0],x[1]+y[1]) ).mapValues(lambda x: x[0]/x[1]).collect()\n",
    "Input.groupByKey().mapValues(average).collect()"
   ]
  },
  {
   "cell_type": "code",
   "execution_count": 27,
   "metadata": {
    "scrolled": true
   },
   "outputs": [
    {
     "data": {
      "text/plain": [
       "[['1', '1', 4.0, '964982703'],\n",
       " ['1', '3', 4.0, '964981247'],\n",
       " ['1', '6', 4.0, '964982224'],\n",
       " ['1', '47', 5.0, '964983815']]"
      ]
     },
     "execution_count": 27,
     "metadata": {},
     "output_type": "execute_result"
    }
   ],
   "source": [
    "ratings.take(4) #['userId', 'movieId', 'rating', 'timestamp'],"
   ]
  },
  {
   "cell_type": "markdown",
   "metadata": {},
   "source": [
    "##### Build an rdd with only the userId and the note"
   ]
  },
  {
   "cell_type": "code",
   "execution_count": 28,
   "metadata": {},
   "outputs": [
    {
     "data": {
      "text/plain": [
       "[('1', 4.0), ('3', 4.0), ('6', 4.0), ('47', 5.0), ('50', 5.0)]"
      ]
     },
     "execution_count": 28,
     "metadata": {},
     "output_type": "execute_result"
    }
   ],
   "source": [
    "ratingsAvg=ratings.map(lambda x:(x[1],x[2])) #'movieId', 'rating'\n",
    "ratingsAvg.take(5)"
   ]
  },
  {
   "cell_type": "markdown",
   "metadata": {},
   "source": [
    "### 1st method"
   ]
  },
  {
   "cell_type": "code",
   "execution_count": 29,
   "metadata": {},
   "outputs": [
    {
     "data": {
      "text/plain": [
       "[('6835', 5.0), ('1151', 5.0), ('1631', 5.0), ('102217', 5.0), ('27523', 5.0)]"
      ]
     },
     "execution_count": 29,
     "metadata": {},
     "output_type": "execute_result"
    }
   ],
   "source": [
    "ratingsMethod1=ratingsAvg.groupByKey().mapValues(lambda l: sum(l)/len(l)).sortBy(lambda x : x[1],ascending=False)\n",
    "ratingsMethod1.take(5)"
   ]
  },
  {
   "cell_type": "code",
   "execution_count": 30,
   "metadata": {},
   "outputs": [
    {
     "data": {
      "text/plain": [
       "[('6835', 5.0),\n",
       " ('1151', 5.0),\n",
       " ('1631', 5.0),\n",
       " ('102217', 5.0),\n",
       " ('27523', 5.0),\n",
       " ('53', 5.0),\n",
       " ('1140', 5.0),\n",
       " ('8238', 5.0),\n",
       " ('47736', 5.0),\n",
       " ('53355', 5.0)]"
      ]
     },
     "execution_count": 30,
     "metadata": {},
     "output_type": "execute_result"
    }
   ],
   "source": [
    "topMovies=ratingsMethod1.take(10)\n",
    "topMovies"
   ]
  },
  {
   "cell_type": "markdown",
   "metadata": {},
   "source": [
    "### Method 1 bis"
   ]
  },
  {
   "cell_type": "code",
   "execution_count": 31,
   "metadata": {},
   "outputs": [
    {
     "data": {
      "text/plain": [
       "[('6835', 5.0), ('1151', 5.0), ('1631', 5.0), ('102217', 5.0), ('27523', 5.0)]"
      ]
     },
     "execution_count": 31,
     "metadata": {},
     "output_type": "execute_result"
    }
   ],
   "source": [
    "ratingsAvg.map(lambda x: (x[0],(x[1],1))).reduceByKey(lambda x,y: (x[0]+y[0],x[1]+y[1]) ).mapValues(lambda x: x[0]/x[1]).sortBy(lambda x : x[1],ascending=False).take(5)"
   ]
  },
  {
   "cell_type": "markdown",
   "metadata": {},
   "source": [
    "##  4.5 Compute the name of these movies"
   ]
  },
  {
   "cell_type": "markdown",
   "metadata": {},
   "source": [
    "##### Get only the columns we want movieID and the name"
   ]
  },
  {
   "cell_type": "code",
   "execution_count": 32,
   "metadata": {},
   "outputs": [
    {
     "data": {
      "text/plain": [
       "[('1', 'Toy Story (1995)'),\n",
       " ('2', 'Jumanji (1995)'),\n",
       " ('3', 'Grumpier Old Men (1995)'),\n",
       " ('4', 'Waiting to Exhale (1995)'),\n",
       " ('5', 'Father of the Bride Part II (1995)')]"
      ]
     },
     "execution_count": 32,
     "metadata": {},
     "output_type": "execute_result"
    }
   ],
   "source": [
    "moviesCalc=movies.map(lambda x: (x[0],x[1]))\n",
    "moviesCalc.take(5)"
   ]
  },
  {
   "cell_type": "markdown",
   "metadata": {},
   "source": [
    "##### Replace \" and ' in the biginning of the title by nothing to be able to sort correctly"
   ]
  },
  {
   "cell_type": "code",
   "execution_count": 33,
   "metadata": {},
   "outputs": [],
   "source": [
    "def rep(s):\n",
    "    for r in ((\"\\\"\", \"\"), (\"'\", \"\")):\n",
    "        s = s.replace(*r)\n",
    "    return s"
   ]
  },
  {
   "cell_type": "code",
   "execution_count": 34,
   "metadata": {},
   "outputs": [],
   "source": [
    "# moviesBest=moviesBest.map(lambda x: (x[0],x[1][0].replace(\"\\\"\",\"\")+x[1][1:]))\n",
    "moviesCalc=moviesCalc.map(lambda x: (x[0],rep(x[1][0]) + x[1][1:]))#.collect()"
   ]
  },
  {
   "cell_type": "markdown",
   "metadata": {},
   "source": [
    "##### Join"
   ]
  },
  {
   "cell_type": "code",
   "execution_count": 35,
   "metadata": {},
   "outputs": [
    {
     "data": {
      "text/plain": [
       "[('1151', (5.0, 'Lesson Faust (1994)')),\n",
       " ('102217', (5.0, 'Bill Hicks: Revelations (1993)')),\n",
       " ('27523', (5.0, 'My Sassy Girl (Yeopgijeogin geunyeo) (2001)')),\n",
       " ('53', (5.0, 'Lamerica (1994)')),\n",
       " ('53578', (5.0, 'Valet, The (La doublure) (2006)\"')),\n",
       " ('60737', (5.0, 'Watching the Detectives (2007)')),\n",
       " ('83969', (5.0, 'Down Argentine Way (1940)')),\n",
       " ('96608', (5.0, 'Runaway Brain (1995) ')),\n",
       " ('107951', (5.0, 'Hunting Elephants (2013)')),\n",
       " ('109241',\n",
       "  (5.0, \"On the Other Side of the Tracks (De l'autre côté du périph) (2012)\"))]"
      ]
     },
     "execution_count": 35,
     "metadata": {},
     "output_type": "execute_result"
    }
   ],
   "source": [
    "# ratingsBest.join(moviesBest).collect()\n",
    "ratingsMethod1.join(moviesCalc).take(10)"
   ]
  },
  {
   "cell_type": "code",
   "execution_count": 36,
   "metadata": {},
   "outputs": [
    {
     "data": {
      "text/plain": [
       "[('77846', (5.0, '12 Angry Men (1997)')),\n",
       " ('141816', (5.0, '12 Chairs (1976)')),\n",
       " ('5468', (5.0, '20 Million Miles to Earth (1957)')),\n",
       " ('27373', (5.0, '61* (2001)')),\n",
       " ('42556', (5.0, '7 Faces of Dr. Lao (1964)')),\n",
       " ('44943', (5.0, '9/11 (2002)')),\n",
       " ('172875', (5.0, 'A Detective Story (2003)')),\n",
       " ('126088', (5.0, 'A Flintstones Christmas Carol (1994)')),\n",
       " ('147410', (5.0, 'A Perfect Day (2015)')),\n",
       " ('170597', (5.0, 'A Plasticine Crow (1981)'))]"
      ]
     },
     "execution_count": 36,
     "metadata": {},
     "output_type": "execute_result"
    }
   ],
   "source": [
    "bestMovies=ratingsMethod1.join(moviesCalc).sortBy(lambda x: (-x[1][0],x[1][1]), ascending=True)\n",
    "bestMovies.take(10)"
   ]
  },
  {
   "cell_type": "markdown",
   "metadata": {},
   "source": [
    "## 4.6 A better ordering\n",
    "Try the following functions to determine the average ratings:\n",
    " 2. sum(ratings)/(1+numberOfRatings)\n",
    " 3. sum(ratings)/max(20,numberOfRatings)"
   ]
  },
  {
   "cell_type": "code",
   "execution_count": 37,
   "metadata": {},
   "outputs": [],
   "source": [
    "def joinBestMovies(leftRdd,rightRdd):\n",
    "    ratedMovies=leftRdd.join(rightRdd).sortBy(lambda x: (-x[1][0],x[1][1]), ascending=True)\n",
    "    bestMovies=ratedMovies.take(10)\n",
    "    return bestMovies"
   ]
  },
  {
   "cell_type": "markdown",
   "metadata": {},
   "source": [
    "##### Using Method2"
   ]
  },
  {
   "cell_type": "markdown",
   "metadata": {},
   "source": [
    "grade(m) = Sum(Pr∈ratings(m) r)/( |ratings(m)|+ 1)"
   ]
  },
  {
   "cell_type": "code",
   "execution_count": 38,
   "metadata": {},
   "outputs": [
    {
     "data": {
      "text/plain": [
       "[('318', (4.415094339622642, 'Shawshank Redemption, The (1994)\"')),\n",
       " ('858', (4.266839378238342, 'Godfather, The (1972)\"')),\n",
       " ('1104', (4.261904761904762, 'Streetcar Named Desire, A (1951)\"')),\n",
       " ('2959', (4.2534246575342465, 'Fight Club (1999)')),\n",
       " ('1221', (4.226923076923077, 'Godfather: Part II, The (1974)\"')),\n",
       " ('750',\n",
       "  (4.224489795918367,\n",
       "   'Dr. Strangelove or: How I Learned to Stop Worrying and Love the Bomb (1964)')),\n",
       " ('177593',\n",
       "  (4.222222222222222, 'Three Billboards Outside Ebbing, Missouri (2017)\"')),\n",
       " ('50', (4.217073170731707, 'Usual Suspects, The (1995)\"')),\n",
       " ('1213', (4.216535433070866, 'Goodfellas (1990)')),\n",
       " ('260', (4.214285714285714, 'Star Wars: Episode IV - A New Hope (1977)'))]"
      ]
     },
     "execution_count": 38,
     "metadata": {},
     "output_type": "execute_result"
    }
   ],
   "source": [
    "ratingsMethod2=ratingsAvg.groupByKey().mapValues(lambda l: sum(l)/(len(l)+1)).sortBy(lambda x : x[1],ascending=False)\n",
    "joinBestMovies(ratingsMethod2,moviesCalc)"
   ]
  },
  {
   "cell_type": "markdown",
   "metadata": {},
   "source": [
    "##### Using method 3 from the notebook (max(20,...)"
   ]
  },
  {
   "cell_type": "markdown",
   "metadata": {},
   "source": [
    "sum(ratings)/max(20,numberOfRatings)"
   ]
  },
  {
   "cell_type": "code",
   "execution_count": 114,
   "metadata": {},
   "outputs": [
    {
     "data": {
      "text/plain": [
       "[('1', 4.0),\n",
       " ('3', 4.0),\n",
       " ('6', 4.0),\n",
       " ('47', 5.0),\n",
       " ('50', 5.0),\n",
       " ('70', 3.0),\n",
       " ('101', 5.0)]"
      ]
     },
     "execution_count": 114,
     "metadata": {},
     "output_type": "execute_result"
    }
   ],
   "source": [
    "ratingsAvg.take(7)"
   ]
  },
  {
   "cell_type": "code",
   "execution_count": 112,
   "metadata": {
    "scrolled": false
   },
   "outputs": [
    {
     "data": {
      "text/plain": [
       "[('1104', (4.475, 'Streetcar Named Desire, A (1951)\"')),\n",
       " ('318', (4.429022082018927, 'Shawshank Redemption, The (1994)\"')),\n",
       " ('922', (4.333333333333333, 'Sunset Blvd. (a.k.a. Sunset Boulevard) (1950)')),\n",
       " ('898', (4.310344827586207, 'Philadelphia Story, The (1940)\"')),\n",
       " ('475', (4.3, 'In the Name of the Father (1993)')),\n",
       " ('1204', (4.3, 'Lawrence of Arabia (1962)')),\n",
       " ('246', (4.293103448275862, 'Hoop Dreams (1994)')),\n",
       " ('858', (4.2890625, 'Godfather, The (1972)\"')),\n",
       " ('1235', (4.288461538461538, 'Harold and Maude (1971)')),\n",
       " ('168252', (4.28, 'Logan (2017)'))]"
      ]
     },
     "execution_count": 112,
     "metadata": {},
     "output_type": "execute_result"
    }
   ],
   "source": [
    "ratingsMethod3nb=ratingsAvg.groupByKey().mapValues(lambda l: sum(l)/max(20,len(l))).sortBy(lambda x : x[1],ascending=False)\n",
    "joinBestMovies(ratingsMethod3nb,moviesCalc) # dans cette méthode, pour rappel, l'ordre se fait sur le rating descending, et le nom ascending"
   ]
  },
  {
   "cell_type": "markdown",
   "metadata": {},
   "source": [
    "##### Using method 3 from the pdf"
   ]
  },
  {
   "cell_type": "markdown",
   "metadata": {},
   "source": [
    "grade(m) =[Sum(Pr∈ratings(m) r)/|ratings(m)|] ×log(1 +|ratings(m)|)"
   ]
  },
  {
   "cell_type": "code",
   "execution_count": 40,
   "metadata": {},
   "outputs": [],
   "source": [
    "from math import log"
   ]
  },
  {
   "cell_type": "code",
   "execution_count": 41,
   "metadata": {},
   "outputs": [
    {
     "data": {
      "text/plain": [
       "[('318', (25.5202528120611, 'Shawshank Redemption, The (1994)\"')),\n",
       " ('356', (24.148197375717082, 'Forrest Gump (1994)')),\n",
       " ('296', (24.049620750363033, 'Pulp Fiction (1994)')),\n",
       " ('2571', (23.608551552923746, 'Matrix, The (1999)\"')),\n",
       " ('593', (23.44799544544623, 'Silence of the Lambs, The (1991)\"')),\n",
       " ('260', (23.395433031622037, 'Star Wars: Episode IV - A New Hope (1977)')),\n",
       " ('2959', (23.0271574143306, 'Fight Club (1999)')),\n",
       " ('527', (22.807237413912503, \"Schindler's List (1993)\")),\n",
       " ('1196',\n",
       "  (22.58143834749173,\n",
       "   'Star Wars: Episode V - The Empire Strikes Back (1980)')),\n",
       " ('858', (22.57200713834986, 'Godfather, The (1972)\"'))]"
      ]
     },
     "execution_count": 41,
     "metadata": {},
     "output_type": "execute_result"
    }
   ],
   "source": [
    "ratingsMethod3pdf=ratingsAvg.groupByKey().mapValues(lambda l: (sum(l)/len(l))*log(1+len(l))).sortBy(lambda x : x[1],ascending=False)\n",
    "joinBestMovies(ratingsMethod3pdf,moviesCalc)"
   ]
  },
  {
   "cell_type": "markdown",
   "metadata": {},
   "source": [
    "# 5 - Movie recommandation\n",
    "\n",
    "For this section you should look and the online PDF for more explanation."
   ]
  },
  {
   "cell_type": "markdown",
   "metadata": {},
   "source": [
    "### 5.1 What are the names of movies seen by the userId=1?"
   ]
  },
  {
   "cell_type": "code",
   "execution_count": 42,
   "metadata": {},
   "outputs": [
    {
     "data": {
      "text/plain": [
       "[['1', '1', 4.0, '964982703'],\n",
       " ['1', '3', 4.0, '964981247'],\n",
       " ['1', '6', 4.0, '964982224'],\n",
       " ['1', '47', 5.0, '964983815'],\n",
       " ['1', '50', 5.0, '964982931']]"
      ]
     },
     "execution_count": 42,
     "metadata": {},
     "output_type": "execute_result"
    }
   ],
   "source": [
    "ratings.take(5)"
   ]
  },
  {
   "cell_type": "code",
   "execution_count": 115,
   "metadata": {},
   "outputs": [
    {
     "name": "stdout",
     "output_type": "stream",
     "text": [
      "[['1', '1', 4.0, '964982703'], ['1', '3', 4.0, '964981247'], ['1', '6', 4.0, '964982224'], ['1', '47', 5.0, '964983815'], ['1', '50', 5.0, '964982931']]\n"
     ]
    },
    {
     "data": {
      "text/plain": [
       "[('1', 4.0), ('3', 4.0), ('6', 4.0), ('47', 5.0)]"
      ]
     },
     "execution_count": 115,
     "metadata": {},
     "output_type": "execute_result"
    }
   ],
   "source": [
    "ratingsUser1=ratings.filter(lambda x : x[0]=='1')#.collect()\n",
    "print(ratingsUser1.take(5))\n",
    "ratingsUser1=ratingsUser1.map(lambda x:(x[1],x[2])) #movieId, rating\n",
    "ratingsUser1.take(4)"
   ]
  },
  {
   "cell_type": "code",
   "execution_count": 44,
   "metadata": {},
   "outputs": [
    {
     "data": {
      "text/plain": [
       "[('50', (5.0, 'Usual Suspects, The (1995)\"')),\n",
       " ('157', (5.0, 'Canadian Bacon (1995)')),\n",
       " ('216', (5.0, 'Billy Madison (1995)')),\n",
       " ('333', (5.0, 'Tommy Boy (1995)')),\n",
       " ('553', (5.0, 'Tombstone (1993)')),\n",
       " ('596', (5.0, 'Pinocchio (1940)')),\n",
       " ('608', (5.0, 'Fargo (1996)')),\n",
       " ('1024', (5.0, 'Three Caballeros, The (1945)\"')),\n",
       " ('1025', (5.0, 'Sword in the Stone, The (1963)\"')),\n",
       " ('1049', (5.0, 'Ghost and the Darkness, The (1996)\"'))]"
      ]
     },
     "execution_count": 44,
     "metadata": {},
     "output_type": "execute_result"
    }
   ],
   "source": [
    "moviesUser1=ratingsUser1.join(moviesCalc).sortBy(lambda x : x[1][0],ascending=False)\n",
    "moviesUser1.take(10)"
   ]
  },
  {
   "cell_type": "markdown",
   "metadata": {},
   "source": [
    "##### the same thing but with creating method \"moviesByUserId\" that I will use later"
   ]
  },
  {
   "cell_type": "code",
   "execution_count": 45,
   "metadata": {},
   "outputs": [],
   "source": [
    "def moviesByUserId(userId,ratings,moviesCalc):\n",
    "    # add condition if all\n",
    "    ratingsUser=ratings.filter(lambda x : x[0]==userId)#.collect()\n",
    "    ratingsUser=ratingsUser.map(lambda x:(x[1],(x[2]),x[0]))\n",
    "    moviesUser=ratingsUser.join(moviesCalc).sortBy(lambda x : x[1][0],ascending=False)\n",
    "    return moviesUser"
   ]
  },
  {
   "cell_type": "code",
   "execution_count": 46,
   "metadata": {},
   "outputs": [
    {
     "data": {
      "text/plain": [
       "[('50', (5.0, 'Usual Suspects, The (1995)\"')),\n",
       " ('157', (5.0, 'Canadian Bacon (1995)')),\n",
       " ('216', (5.0, 'Billy Madison (1995)')),\n",
       " ('333', (5.0, 'Tommy Boy (1995)'))]"
      ]
     },
     "execution_count": 46,
     "metadata": {},
     "output_type": "execute_result"
    }
   ],
   "source": [
    "moviesUser1=moviesByUserId('1',ratings,moviesCalc)\n",
    "moviesUser1.take(4)"
   ]
  },
  {
   "cell_type": "markdown",
   "metadata": {},
   "source": [
    "### 5.2 Implement or copy the function similarity that computes the similarity between two sets of movies notation, defined as:\n",
    "$$similarity(x,y) = \\sum_{m\\in bothRated(x,y)} {normRating(x,m)\\times normRating(y,m)}\\times log(1+|bothRated|)$$\n",
    "\n",
    "where $normRating(x,m) = \\dfrac{rating(x,m)-average(x)}{stddev(x)}$\n",
    "and $average(x)$ is the average grade given by $x$, $stddev(x)$ is the standard deviation of its grades, $bothRated$ is the set of movies rated by both and finally $|bothRated|$ is its size.\n"
   ]
  },
  {
   "cell_type": "markdown",
   "metadata": {},
   "source": [
    "### 5.2 Compute the similarity coefficient between userId=1 and all other users. What is the similarity between userId=1 and userId=1? userId=2? userId=3? userId=4? "
   ]
  },
  {
   "cell_type": "code",
   "execution_count": 47,
   "metadata": {},
   "outputs": [],
   "source": [
    "from operator import add"
   ]
  },
  {
   "cell_type": "code",
   "execution_count": 48,
   "metadata": {},
   "outputs": [],
   "source": [
    "import numpy as np"
   ]
  },
  {
   "cell_type": "markdown",
   "metadata": {},
   "source": [
    "I had two ways to define simil : \n",
    "    1/ by passing userIds directly as argument and build inside the simil method the 2 rdds, or \n",
    "    2/ by passing the 2 rdds as argument: this one is prefered as we calculate all users with userId=1 \n",
    "        and don't want to recalculte rdddUser1 each time the function is called"
   ]
  },
  {
   "cell_type": "code",
   "execution_count": 49,
   "metadata": {},
   "outputs": [],
   "source": [
    "# def simil(userId1,userId2):\n",
    "def simil(moviesUser1,moviesUser2):\n",
    "    \n",
    "#     moviesUser1=moviesByUserId(userId1,ratings,moviesCalc)\n",
    "#     moviesUser2=moviesByUserId(userId2,ratings,moviesCalc)\n",
    "    \n",
    "    bothRated=moviesUser1.join(moviesUser2)\n",
    "    len_bothRated=bothRated.count()\n",
    "    \n",
    "    if len_bothRated!=0:\n",
    "        ratings1=bothRated.map(lambda x: (x[1][0][0])).collect()\n",
    "        mean1=np.mean(ratings1)\n",
    "#     mean1=moviesUser1.map(lambda x:x[1][0]).reduce(add)/moviesUser1.count()\n",
    "        std1=np.std(ratings1)\n",
    "\n",
    "        ratings2=bothRated.map(lambda x: (x[1][1][0])).collect()\n",
    "        mean2=np.mean(ratings2)\n",
    "        std2=np.std(ratings2)\n",
    "\n",
    "        normRating1=ratings1-mean1\n",
    "        normRating2=ratings2-mean2\n",
    "        product=np.multiply(np.array(normRating1),np.array(normRating2))\n",
    "        sumProduct=log(1+len_bothRated)*np.sum(product)\n",
    "    \n",
    "        if (std1==0) or (std2==0) :\n",
    "            simil=0\n",
    "        else:\n",
    "            simil=sumProduct/(std1*std2)\n",
    "    else:\n",
    "        simil=0\n",
    "    return simil"
   ]
  },
  {
   "cell_type": "markdown",
   "metadata": {},
   "source": [
    "##### Testing similiraity for some userIds"
   ]
  },
  {
   "cell_type": "code",
   "execution_count": 117,
   "metadata": {},
   "outputs": [
    {
     "data": {
      "text/plain": [
       "1264.6409212272426"
      ]
     },
     "execution_count": 117,
     "metadata": {},
     "output_type": "execute_result"
    }
   ],
   "source": [
    "moviesUser1=moviesByUserId('1',ratings,moviesCalc)\n",
    "moviesUser2=moviesByUserId('1',ratings,moviesCalc)\n",
    "simil(moviesUser1,moviesUser2)\n",
    "# simil('1','1') => 1264.6409212272426 I don't put it at 0 just to see if the calculation goes well"
   ]
  },
  {
   "cell_type": "markdown",
   "metadata": {},
   "source": [
    "##### Method1 Similarities between 1 and (1 to 4) users"
   ]
  },
  {
   "cell_type": "code",
   "execution_count": 51,
   "metadata": {},
   "outputs": [
    {
     "name": "stdout",
     "output_type": "stream",
     "text": [
      "Simil between user 1 and user 1   1264.6409212272426\n",
      "Simil between user 1 and user 2   0\n",
      "Simil between user 1 and user 3   1.1618505308676816\n",
      "Simil between user 1 and user 4   35.83314879256455\n"
     ]
    }
   ],
   "source": [
    "# I could put the simil(1,1) to 0\n",
    "users=[str(i) for i in range(1,5)]\n",
    "\n",
    "moviesUser1=moviesByUserId('1',ratings,moviesCalc)\n",
    "\n",
    "for userId in users:\n",
    "    moviesUser2=moviesByUserId(userId,ratings,moviesCalc)\n",
    "    print(\"Simil between user 1 and user\", userId, \" \",simil(moviesUser1,moviesUser2))\n",
    "#     print(\"Simil between user 1 and user\", userId, \" \",simil('1',userId))"
   ]
  },
  {
   "cell_type": "code",
   "execution_count": 52,
   "metadata": {},
   "outputs": [
    {
     "data": {
      "text/plain": [
       "'\\nPicklingError: Could not serialize object: Exception: It appears that you are attempting to broadcast an RDD or reference \\n            an RDD from an action or transformation. RDD transformations and actions can only be invoked by the driver, \\n            not inside of other transformations; for example, rdd1.map(lambda x: rdd2.values.count() * x) is invalid because \\n            the values transformation and count action cannot be performed inside of the rdd1.map transformation. \\n            For more information, see SPARK-5063.\\n'"
      ]
     },
     "execution_count": 52,
     "metadata": {},
     "output_type": "execute_result"
    }
   ],
   "source": [
    "# ratings.map(lambda x: (x[0],1)).groupByKey().map(lambda x : (x[0],simil(x[0],1))) #==> does not work\n",
    "\"\"\"\n",
    "PicklingError: Could not serialize object: Exception: It appears that you are attempting to broadcast an RDD or reference \n",
    "            an RDD from an action or transformation. RDD transformations and actions can only be invoked by the driver, \n",
    "            not inside of other transformations; for example, rdd1.map(lambda x: rdd2.values.count() * x) is invalid because \n",
    "            the values transformation and count action cannot be performed inside of the rdd1.map transformation. \n",
    "            For more information, see SPARK-5063.\n",
    "\"\"\""
   ]
  },
  {
   "cell_type": "markdown",
   "metadata": {},
   "source": [
    "must use a loop to calcule the simil(x,1), then store the data in a list and these parallelize\n",
    "==> in this case I prefere use rdd(s) as argument and not the userId, as \n",
    "I don't want to build ratings for user 1 for each iteration"
   ]
  },
  {
   "cell_type": "markdown",
   "metadata": {},
   "source": [
    "#### Building a RDD with pairs(userId, simil)"
   ]
  },
  {
   "cell_type": "markdown",
   "metadata": {},
   "source": [
    "##### Getting distinct userIds"
   ]
  },
  {
   "cell_type": "code",
   "execution_count": 53,
   "metadata": {},
   "outputs": [
    {
     "data": {
      "text/plain": [
       "list"
      ]
     },
     "execution_count": 53,
     "metadata": {},
     "output_type": "execute_result"
    }
   ],
   "source": [
    "userIds=ratings.map(lambda x: (int(x[0]),1)).groupByKey().sortByKey().map(lambda x : str(x[0])).collect()\n",
    "len(userIds)\n",
    "type(userIds)"
   ]
  },
  {
   "cell_type": "code",
   "execution_count": 54,
   "metadata": {},
   "outputs": [
    {
     "name": "stdout",
     "output_type": "stream",
     "text": [
      "CPU times: user 59 s, sys: 9.84 s, total: 1min 8s\n",
      "Wall time: 11min 43s\n"
     ]
    }
   ],
   "source": [
    "%%time\n",
    "moviesUser1=moviesByUserId('1',ratings,moviesCalc)\n",
    "data=[]\n",
    "for userId in userIds:\n",
    "    moviesUser2=moviesByUserId(userId,ratings,moviesCalc)\n",
    "    res=simil(moviesUser2,moviesUser1)\n",
    "#     print(userId,res)\n",
    "    data.append((userId,res))"
   ]
  },
  {
   "cell_type": "code",
   "execution_count": 55,
   "metadata": {},
   "outputs": [],
   "source": [
    "rddSimil=sc.parallelize(data)"
   ]
  },
  {
   "cell_type": "code",
   "execution_count": 56,
   "metadata": {},
   "outputs": [
    {
     "data": {
      "text/plain": [
       "[('1', 1264.6409212272426),\n",
       " ('2', 0),\n",
       " ('3', 1.1618505308676816),\n",
       " ('4', 35.83314879256455),\n",
       " ('5', 9.220173141462034)]"
      ]
     },
     "execution_count": 56,
     "metadata": {},
     "output_type": "execute_result"
    }
   ],
   "source": [
    "rddSimil.take(5)\n",
    "# I could put the simil(1,1) to 0"
   ]
  },
  {
   "cell_type": "code",
   "execution_count": 57,
   "metadata": {},
   "outputs": [
    {
     "data": {
      "text/plain": [
       "[('1', 1264.6409212272426)]"
      ]
     },
     "execution_count": 57,
     "metadata": {},
     "output_type": "execute_result"
    }
   ],
   "source": [
    "rddSimil.filter(lambda x : x[0]=='1').collect()"
   ]
  },
  {
   "cell_type": "code",
   "execution_count": 58,
   "metadata": {},
   "outputs": [
    {
     "data": {
      "text/plain": [
       "15.32005264294494"
      ]
     },
     "execution_count": 58,
     "metadata": {},
     "output_type": "execute_result"
    }
   ],
   "source": [
    "#average of simil so far from the alpha =0.5\n",
    "rddSimil.filter(lambda x : (x[0]!='1')).map(lambda x:x[1]).reduce(add)/rddSimil.count()"
   ]
  },
  {
   "cell_type": "markdown",
   "metadata": {},
   "source": [
    "##### Method2 Similarities between 1 and (1 to 4) users"
   ]
  },
  {
   "cell_type": "code",
   "execution_count": 59,
   "metadata": {},
   "outputs": [
    {
     "name": "stdout",
     "output_type": "stream",
     "text": [
      "[('1', 1264.6409212272426)]\n",
      "[('2', 0)]\n",
      "[('3', 1.1618505308676816)]\n",
      "[('4', 35.83314879256455)]\n"
     ]
    }
   ],
   "source": [
    "# I could put the simil(1,1) to 0\n",
    "users=[str(i) for i in range(1,5)]\n",
    "for userId in users:\n",
    "    print(rddSimil.filter(lambda x: x[0]==userId).collect())"
   ]
  },
  {
   "cell_type": "code",
   "execution_count": 60,
   "metadata": {},
   "outputs": [
    {
     "data": {
      "text/plain": [
       "[('414', 436.8481843311531),\n",
       " ('448', 237.09927682879575),\n",
       " ('599', 205.64348156414772),\n",
       " ('590', 193.5729231160742),\n",
       " ('19', 192.79762091289703)]"
      ]
     },
     "execution_count": 60,
     "metadata": {},
     "output_type": "execute_result"
    }
   ],
   "source": [
    "#Filtering the userID=1\n",
    "rddSimil.sortBy(lambda x : x[1], ascending=False).filter(lambda x: x[0]!='1').take(5)"
   ]
  },
  {
   "cell_type": "markdown",
   "metadata": {},
   "source": [
    "### 5.3 Compute the 10 top movies recommended by collaborative filtering using pearson correlation for userId=1"
   ]
  },
  {
   "cell_type": "markdown",
   "metadata": {},
   "source": [
    "The recommendation grade of a movie m for user 1 will be the average of ratings by other users ponderated by similarities \n",
    "between users. As in section 4.6, we don’t want this list polluted by averages computed over very few values therefore, \n",
    "in practice we compute the following value :"
   ]
  },
  {
   "cell_type": "markdown",
   "metadata": {},
   "source": [
    "### Calculating the grade"
   ]
  },
  {
   "cell_type": "code",
   "execution_count": 61,
   "metadata": {},
   "outputs": [
    {
     "data": {
      "text/plain": [
       "[('1', 1264.6409212272426),\n",
       " ('2', 0),\n",
       " ('3', 1.1618505308676816),\n",
       " ('4', 35.83314879256455),\n",
       " ('5', 9.220173141462034),\n",
       " ('6', -33.93762585005356)]"
      ]
     },
     "execution_count": 61,
     "metadata": {},
     "output_type": "execute_result"
    }
   ],
   "source": [
    "rddSimil.take(6) #userId, simil"
   ]
  },
  {
   "cell_type": "code",
   "execution_count": 62,
   "metadata": {},
   "outputs": [
    {
     "name": "stdout",
     "output_type": "stream",
     "text": [
      "# userId total in rddSimil 610\n",
      "# userId to exclude 232\n"
     ]
    }
   ],
   "source": [
    "print(\"# userId total in rddSimil\",rddSimil.count())\n",
    "nb_userId_exclude=rddSimil.filter(lambda x:x[1]<=0).count() #perhaos we have to exclude only null values and keep negative ones\n",
    "print(\"# userId to exclude\",nb_userId_exclude)"
   ]
  },
  {
   "cell_type": "markdown",
   "metadata": {},
   "source": [
    "##### Exclude userId 1"
   ]
  },
  {
   "cell_type": "markdown",
   "metadata": {},
   "source": [
    "##### At the first time, I wanted to filter only strict positive similarities, but finally I keep all the rdd excluding userId =1"
   ]
  },
  {
   "cell_type": "code",
   "execution_count": 63,
   "metadata": {},
   "outputs": [
    {
     "data": {
      "text/plain": [
       "609"
      ]
     },
     "execution_count": 63,
     "metadata": {},
     "output_type": "execute_result"
    }
   ],
   "source": [
    "# rddRated=rddSimil.filter(lambda x:x[1]>0).filter(lambda x: x[0]!='1')\n",
    "rddRated=rddSimil.filter(lambda x: x[0]!='1')\n",
    "rddRated.count()"
   ]
  },
  {
   "cell_type": "code",
   "execution_count": 64,
   "metadata": {},
   "outputs": [
    {
     "data": {
      "text/plain": [
       "[('2', 0),\n",
       " ('3', 1.1618505308676816),\n",
       " ('4', 35.83314879256455),\n",
       " ('5', 9.220173141462034),\n",
       " ('6', -33.93762585005356)]"
      ]
     },
     "execution_count": 64,
     "metadata": {},
     "output_type": "execute_result"
    }
   ],
   "source": [
    "rddRated.take(5) # (userId, simil)"
   ]
  },
  {
   "cell_type": "markdown",
   "metadata": {},
   "source": [
    "##### Nominateur"
   ]
  },
  {
   "cell_type": "markdown",
   "metadata": {},
   "source": [
    "For each userId,we get the movieId and the rating"
   ]
  },
  {
   "cell_type": "code",
   "execution_count": 68,
   "metadata": {},
   "outputs": [
    {
     "data": {
      "text/plain": [
       "[('2', ('318', 3.0)),\n",
       " ('2', ('333', 4.0)),\n",
       " ('2', ('1704', 4.5)),\n",
       " ('2', ('3578', 4.0)),\n",
       " ('2', ('6874', 4.0)),\n",
       " ('2', ('8798', 3.5))]"
      ]
     },
     "execution_count": 68,
     "metadata": {},
     "output_type": "execute_result"
    }
   ],
   "source": [
    "ratingsGrade=ratings.map(lambda x: (x[0],(x[1],x[2]))).filter(lambda x: x[0]!='1') #userId, (movieId, rating)\n",
    "ratingsGrade.take(6)"
   ]
  },
  {
   "cell_type": "markdown",
   "metadata": {},
   "source": [
    "Join Users ratings (ratingsGrade) with Users similarities with userId=1 (rddRated)\n",
    "And calculate the product note * simil"
   ]
  },
  {
   "cell_type": "code",
   "execution_count": 150,
   "metadata": {},
   "outputs": [],
   "source": [
    "rddAll=ratingsGrade.join(rddRated)#.collect() #userId, movieId, note, simil (rddRated =rddSimil without 1)\n",
    "rddAll=rddAll.map(lambda x : (x[0],x[1][0][0],x[1][0][1], x[1][1],x[1][0][1]*x[1][1]))#.collect() #userId, movieId, note, simil, note*simil"
   ]
  },
  {
   "cell_type": "code",
   "execution_count": 151,
   "metadata": {},
   "outputs": [
    {
     "data": {
      "text/plain": [
       "[('4', '21', 3.0, 35.83314879256455, 107.49944637769366),\n",
       " ('4', '32', 2.0, 35.83314879256455, 71.6662975851291),\n",
       " ('4', '45', 3.0, 35.83314879256455, 107.49944637769366),\n",
       " ('4', '47', 2.0, 35.83314879256455, 71.6662975851291),\n",
       " ('4', '52', 3.0, 35.83314879256455, 107.49944637769366),\n",
       " ('4', '58', 3.0, 35.83314879256455, 107.49944637769366)]"
      ]
     },
     "execution_count": 151,
     "metadata": {},
     "output_type": "execute_result"
    }
   ],
   "source": [
    "rddAll.take(6)"
   ]
  },
  {
   "cell_type": "code",
   "execution_count": 71,
   "metadata": {},
   "outputs": [
    {
     "data": {
      "text/plain": [
       "26501.247537916664"
      ]
     },
     "execution_count": 71,
     "metadata": {},
     "output_type": "execute_result"
    }
   ],
   "source": [
    "rddAll.filter(lambda x:x[1]=='1').map(lambda x:x[4]).reduce(add)#.collect()"
   ]
  },
  {
   "cell_type": "markdown",
   "metadata": {},
   "source": [
    "For each movie m calculate the sum of rating*simil (x[4])"
   ]
  },
  {
   "cell_type": "code",
   "execution_count": 121,
   "metadata": {},
   "outputs": [
    {
     "data": {
      "text/plain": [
       "[('1', 26501.247537916664),\n",
       " ('10', 15263.854930316867),\n",
       " ('100', 970.5702792740526),\n",
       " ('100044', -20.560732023070884)]"
      ]
     },
     "execution_count": 121,
     "metadata": {},
     "output_type": "execute_result"
    }
   ],
   "source": [
    "rddGradeRatingSimil=rddAll.map(lambda x: (x[1],x[4])).reduceByKey(add).sortByKey() #movieId, sum(rating*simil)\n",
    "rddGradeRatingSimil.take(4)"
   ]
  },
  {
   "cell_type": "markdown",
   "metadata": {},
   "source": [
    "##### Denominateur"
   ]
  },
  {
   "cell_type": "code",
   "execution_count": 124,
   "metadata": {},
   "outputs": [
    {
     "data": {
      "text/plain": [
       "[('1', 6865.879911362759),\n",
       " ('10', 4710.419463873164),\n",
       " ('100', 444.5046664610364),\n",
       " ('100044', -5.140183005767721)]"
      ]
     },
     "execution_count": 124,
     "metadata": {},
     "output_type": "execute_result"
    }
   ],
   "source": [
    "rddGradeSimil=rddAll.map(lambda x: (x[1],x[3])).reduceByKey(add).sortByKey() #movieId, sum(simil)\n",
    "rddGradeSimil.take(4)"
   ]
  },
  {
   "cell_type": "markdown",
   "metadata": {},
   "source": [
    "##### Calculate the grade"
   ]
  },
  {
   "cell_type": "code",
   "execution_count": 135,
   "metadata": {
    "scrolled": false
   },
   "outputs": [
    {
     "data": {
      "text/plain": [
       "[('1606', 2027.069090155259),\n",
       " ('50851', 204.21109124799136),\n",
       " ('3404', 126.2105902045849),\n",
       " ('1554', 88.0784478983276),\n",
       " ('388', 78.18282800415395),\n",
       " ('60408', 50.77234291507371)]"
      ]
     },
     "execution_count": 135,
     "metadata": {},
     "output_type": "execute_result"
    }
   ],
   "source": [
    "alpha=0.5\n",
    "#movieId, grade\n",
    "rddGrade=rddGradeRatingSimil.join(rddGradeSimil).map(lambda x: (x[0],x[1][0]/(alpha+x[1][1]))).sortBy(lambda x:x[1],ascending=False)\n",
    "rddGrade.take(6)"
   ]
  },
  {
   "cell_type": "code",
   "execution_count": 136,
   "metadata": {},
   "outputs": [
    {
     "data": {
      "text/plain": [
       "9723"
      ]
     },
     "execution_count": 136,
     "metadata": {},
     "output_type": "execute_result"
    }
   ],
   "source": [
    "rddGrade.count()"
   ]
  },
  {
   "cell_type": "markdown",
   "metadata": {},
   "source": [
    "##### The top 10  movies to be recommanded (even the ones already seen by userId)"
   ]
  },
  {
   "cell_type": "markdown",
   "metadata": {},
   "source": [
    "##### Finishing 1. What are the best movies for user 1?"
   ]
  },
  {
   "cell_type": "code",
   "execution_count": 212,
   "metadata": {
    "scrolled": false
   },
   "outputs": [
    {
     "data": {
      "text/plain": [
       "[('1606', (2027.069090155259, 'Kull the Conqueror (1997)')),\n",
       " ('50851', (204.21109124799136, 'Cocaine Cowboys (2006)')),\n",
       " ('3404', (126.2105902045849, 'Titanic (1953)')),\n",
       " ('1554', (88.0784478983276, 'Pillow Book, The (1996)\"')),\n",
       " ('388', (78.18282800415395, 'Boys Life (1995)')),\n",
       " ('60408',\n",
       "  (50.77234291507371,\n",
       "   \"Welcome to the Sticks (Bienvenue chez les Ch'tis) (2008)\")),\n",
       " ('549',\n",
       "  (34.2289901373237, 'Thirty-Two Short Films About Glenn Gould (1993)')),\n",
       " ('117533', (26.9367231043988, 'Citizenfour (2014)')),\n",
       " ('1621', (18.914274087751235, 'Soul Food (1997)')),\n",
       " ('2630', (16.64324566647544, \"Besieged (a.k.a. L' Assedio) (1998)\"))]"
      ]
     },
     "execution_count": 212,
     "metadata": {},
     "output_type": "execute_result"
    }
   ],
   "source": [
    "bestMovies=rddGrade.join(moviesCalc).sortBy(lambda x:x[1][0],ascending=False)\n",
    "bestMovies.take(10) #movieID, grade, name"
   ]
  },
  {
   "cell_type": "markdown",
   "metadata": {},
   "source": [
    "### 5.4 Remove from the previous list the movies already rated (and thus seen) by userId=1"
   ]
  },
  {
   "cell_type": "code",
   "execution_count": 140,
   "metadata": {},
   "outputs": [
    {
     "name": "stdout",
     "output_type": "stream",
     "text": [
      "# of movies seen by 1 232\n"
     ]
    },
    {
     "data": {
      "text/plain": [
       "9723"
      ]
     },
     "execution_count": 140,
     "metadata": {},
     "output_type": "execute_result"
    }
   ],
   "source": [
    "# print(\"# of movies seen by 1\",moviesUser1.count())\n",
    "# moviesUser1.rightOuterJoin(rddGrade).count()\n",
    "# #==> rightOuterJoin does not work for us, because it gives all movies in rddGrade included the ones done by userID=1. \n",
    "# # rightAntiJoin is what we want but does not exist ( I didn't find it)\n",
    "# # see here after the choosen method"
   ]
  },
  {
   "cell_type": "markdown",
   "metadata": {},
   "source": [
    "##### Must user filter to remove movies already seen by userId=1"
   ]
  },
  {
   "cell_type": "code",
   "execution_count": 141,
   "metadata": {},
   "outputs": [],
   "source": [
    "movies1=moviesUser1.map(lambda x: x[0]).collect() #List of moviesID by userId=1"
   ]
  },
  {
   "cell_type": "markdown",
   "metadata": {},
   "source": [
    "##### DO: Compute an RDD containing pairs of movie id and their grade. "
   ]
  },
  {
   "cell_type": "code",
   "execution_count": 144,
   "metadata": {},
   "outputs": [
    {
     "name": "stdout",
     "output_type": "stream",
     "text": [
      "# of movies not already seen by userId=1 9492\n"
     ]
    },
    {
     "data": {
      "text/plain": [
       "[('1606', 2027.069090155259),\n",
       " ('50851', 204.21109124799136),\n",
       " ('3404', 126.2105902045849),\n",
       " ('1554', 88.0784478983276),\n",
       " ('388', 78.18282800415395)]"
      ]
     },
     "execution_count": 144,
     "metadata": {},
     "output_type": "execute_result"
    }
   ],
   "source": [
    "rddGradeExcl1=rddGrade.filter(lambda x: x[0] not in movies1)#.map(lambda x: (x[0],x[2]))\n",
    "print(\"# of movies not already seen by userId=1\",rddGradeExcl1.count())\n",
    "rddGradeExcl1.take(5)"
   ]
  },
  {
   "cell_type": "markdown",
   "metadata": {},
   "source": [
    "##### Finishing  2. What are the best movies for user 1 that he/she has not rated? "
   ]
  },
  {
   "cell_type": "code",
   "execution_count": 145,
   "metadata": {},
   "outputs": [
    {
     "data": {
      "text/plain": [
       "[('1606', 2027.069090155259),\n",
       " ('50851', 204.21109124799136),\n",
       " ('3404', 126.2105902045849),\n",
       " ('1554', 88.0784478983276),\n",
       " ('388', 78.18282800415395),\n",
       " ('60408', 50.77234291507371),\n",
       " ('549', 34.2289901373237),\n",
       " ('117533', 26.9367231043988),\n",
       " ('1621', 18.914274087751235),\n",
       " ('2630', 16.64324566647544)]"
      ]
     },
     "execution_count": 145,
     "metadata": {},
     "output_type": "execute_result"
    }
   ],
   "source": [
    "top10Movies=rddGradeExcl1.take(10) #movieId and grade\n",
    "top10Movies\n",
    "# this list will be filter in the rddAll in which we have all data : userId, movieId, note, simil, note*simil \n",
    "# We will keep only the 10 movies: userId, movieId, note*simil ==> plot map with matplotlib or scatter?"
   ]
  },
  {
   "cell_type": "markdown",
   "metadata": {},
   "source": [
    "##### DO: Compute an RDD containing pairs of movie titles and their grade"
   ]
  },
  {
   "cell_type": "code",
   "execution_count": 146,
   "metadata": {},
   "outputs": [
    {
     "data": {
      "text/plain": [
       "[('Kull the Conqueror (1997)', 2027.069090155259),\n",
       " ('Cocaine Cowboys (2006)', 204.21109124799136),\n",
       " ('Titanic (1953)', 126.2105902045849),\n",
       " ('Pillow Book, The (1996)\"', 88.0784478983276),\n",
       " ('Boys Life (1995)', 78.18282800415395),\n",
       " (\"Welcome to the Sticks (Bienvenue chez les Ch'tis) (2008)\",\n",
       "  50.77234291507371),\n",
       " ('Thirty-Two Short Films About Glenn Gould (1993)', 34.2289901373237),\n",
       " ('Citizenfour (2014)', 26.9367231043988),\n",
       " ('Soul Food (1997)', 18.914274087751235),\n",
       " (\"Besieged (a.k.a. L' Assedio) (1998)\", 16.64324566647544)]"
      ]
     },
     "execution_count": 146,
     "metadata": {},
     "output_type": "execute_result"
    }
   ],
   "source": [
    "rddGradeExcl1.join(moviesCalc).sortBy(lambda x:x[1][0],ascending=False).map(lambda x: (x[1][1],x[1][0])).take(10)"
   ]
  },
  {
   "cell_type": "markdown",
   "metadata": {},
   "source": [
    "##### Simple check"
   ]
  },
  {
   "cell_type": "code",
   "execution_count": 83,
   "metadata": {},
   "outputs": [],
   "source": [
    "# #after filtering movies seen by user 1: 318 is indeed not seen by 1\n",
    "# moviesUser1.filter(lambda x: x[0]=='318').collect()\n",
    "\n",
    "# # get all ratings, and userID who's seen movieid=318\n",
    "# rddAll.filter(lambda x:x[1]=='318').take(5) #userId, movieId, note, simil, note*simil\n",
    "# # [('16', '318', 4.0, 16.440014791715996, 65.76005916686398),\n",
    "# #  ('24', '318', 4.5, 20.285427129540547, 91.28442208293247),\n",
    "# #  ('33', '318', 4.0, 7.964329836676218, 31.857319346704873),\n",
    "# #  ('34', '318', 4.0, 1.3456420642274627, 5.382568256909851),\n",
    "# # ]\n",
    "# #get userId=24 and check the simil with 1 ==> 20.285427129540547\n",
    "# rddSimil.filter(lambda x:x[0]=='24').collect()\n",
    "\n",
    "# #318 have been rated by 216 users\n",
    "# rddAll.filter(lambda x:x[1]=='318').count()\n",
    "\n",
    "# #have a look on the top similarities\n",
    "# rddAll.filter(lambda x:x[1]=='318').sortBy(lambda x:x[4],ascending=False).take(5)\n",
    "# [('414', '318', 5.0, 436.8481843311531, 2184.2409216557653),\n",
    "#  ('477', '318', 5.0, 182.53454410689685, 912.6727205344843),\n",
    "#  ('590', '318', 4.5, 193.5729231160742, 871.0781540223339),\n",
    "#  ('599', '318', 4.0, 205.64348156414772, 822.5739262565909),\n",
    "#  ('608', '318', 4.5, 179.37026112306356, 807.166175053786)]\n",
    "\n",
    "# #calculate the grade\n",
    "# sumNom=rddAll.filter(lambda x:x[1]=='318').map(lambda x:x[4]).reduce(add)\n",
    "# grade=sumNom/(0.5+sumSimilRated)\n",
    "# grade\n",
    "# 3.077222017414154\n",
    "\n",
    "# #check it with the results in the final rdd ==>rddGradeExcl1\n",
    "# rddGradeExcl1.take(5)\n",
    "\n",
    "# [('318', 33495.03026305474, 3.077222017414154),\n",
    "#  ('589', 31921.29558690262, 2.9326414346533434),\n",
    "#  ('2762', 29202.787888902043, 2.682889406453972),\n",
    "#  ('858', 29032.095135681702, 2.667207692053432),\n",
    "#  ('32', 27944.858473896074, 2.5673221697084383)]"
   ]
  },
  {
   "cell_type": "markdown",
   "metadata": {},
   "source": [
    "## PLOT"
   ]
  },
  {
   "cell_type": "markdown",
   "metadata": {},
   "source": [
    "I want to plot the (note * simil) for the top 10 movies (X Axis) recommanded for userId, depending on the top usersID (Y axis).\n",
    "To choose th top 10 usersId, I just get the top 10 users having the biggest sum(note*simil)"
   ]
  },
  {
   "cell_type": "code",
   "execution_count": 206,
   "metadata": {},
   "outputs": [
    {
     "name": "stdout",
     "output_type": "stream",
     "text": [
      "['1606', '50851', '3404', '1554', '388', '60408', '549', '117533', '1621', '2630', '66511', '6983', '3787', '3299', '88746', '2024', '3655', '81132', '4428', '536']\n",
      "['606', '453', '410', '314', '93', '268', '202', '479', '265', '450', '119', '419', '204', '132', '543', '436', '487', '33', '89', '525']\n"
     ]
    },
    {
     "data": {
      "text/plain": [
       "[('33', '1', 23.892989510028656),\n",
       " ('33', '7', 7.964329836676218),\n",
       " ('33', '11', 15.928659673352437),\n",
       " ('33', '17', 31.857319346704873),\n",
       " ('33', '21', 31.857319346704873)]"
      ]
     },
     "execution_count": 206,
     "metadata": {},
     "output_type": "execute_result"
    }
   ],
   "source": [
    "# top 10 movies not rated by userId1\n",
    "top10Movies=rddGradeExcl1.take(20)\n",
    "top10moviesId=[elem[0] for elem in top10Movies]\n",
    "print(top10moviesId)\n",
    "# top 10 users not rated by userId1 ==>x[4]=note*simil\n",
    "top10usersId=rddAll.filter(lambda x:x[1] in top10moviesId).map(lambda x: (x[0],x[4])).reduceByKey(add).sortBy(lambda x:x[1],ascending=False).map(lambda x:x[0]).take(20)#.map(lambda x : str(x[0])).count()\n",
    "print(top10usersId)\n",
    "#get the final data\n",
    "rddPlot=rddAll.filter(lambda x:x[1] in top10moviesId or x[0] in top10usersId).map(lambda x:(x[0],x[1],x[4])) #userId, movieId, rating*simil\n",
    "rddPlot.take(5)"
   ]
  },
  {
   "cell_type": "code",
   "execution_count": 208,
   "metadata": {
    "collapsed": true
   },
   "outputs": [
    {
     "data": {
      "text/plain": [
       "[('50851',\n",
       "  (((((((((((((((((((None, None), None), None), None), None), None), None),\n",
       "              None),\n",
       "             None),\n",
       "            None),\n",
       "           39.147173254807534),\n",
       "          None),\n",
       "         None),\n",
       "        None),\n",
       "       None),\n",
       "      None),\n",
       "     None),\n",
       "    None),\n",
       "   None)),\n",
       " ('1621',\n",
       "  (((((((((((((((((((None, None), None), None), None), None), None), None),\n",
       "              None),\n",
       "             None),\n",
       "            None),\n",
       "           None),\n",
       "          None),\n",
       "         None),\n",
       "        None),\n",
       "       None),\n",
       "      None),\n",
       "     15.928659673352437),\n",
       "    None),\n",
       "   None)),\n",
       " ('81132',\n",
       "  (((((((((((((((((((None, None), None), None), None), None), None), None),\n",
       "              None),\n",
       "             None),\n",
       "            None),\n",
       "           None),\n",
       "          28.117542403509585),\n",
       "         None),\n",
       "        None),\n",
       "       None),\n",
       "      None),\n",
       "     None),\n",
       "    None),\n",
       "   None)),\n",
       " ('388',\n",
       "  (((((((((((((((((((None, None), None), None), None), None), None), None),\n",
       "              61.023612749574596),\n",
       "             None),\n",
       "            None),\n",
       "           None),\n",
       "          None),\n",
       "         None),\n",
       "        None),\n",
       "       None),\n",
       "      None),\n",
       "     None),\n",
       "    None),\n",
       "   None)),\n",
       " ('1554',\n",
       "  (((((((((((((((((((99.08521980651476, None), None), None), None), None),\n",
       "                None),\n",
       "               None),\n",
       "              None),\n",
       "             None),\n",
       "            None),\n",
       "           None),\n",
       "          None),\n",
       "         23.644627066436104),\n",
       "        None),\n",
       "       None),\n",
       "      18.08754624121733),\n",
       "     None),\n",
       "    None),\n",
       "   None)),\n",
       " ('3655',\n",
       "  (((((((((((((((((((86.69956733070042, None), None), None), None), None),\n",
       "                None),\n",
       "               None),\n",
       "              None),\n",
       "             None),\n",
       "            None),\n",
       "           None),\n",
       "          None),\n",
       "         None),\n",
       "        None),\n",
       "       None),\n",
       "      None),\n",
       "     None),\n",
       "    None),\n",
       "   None)),\n",
       " ('60408',\n",
       "  (((((((((((((((((((None, None), None), None), None), None), None), None),\n",
       "              None),\n",
       "             None),\n",
       "            None),\n",
       "           None),\n",
       "          None),\n",
       "         None),\n",
       "        23.48931877197519),\n",
       "       None),\n",
       "      None),\n",
       "     None),\n",
       "    None),\n",
       "   None)),\n",
       " ('3404',\n",
       "  (((((((((((((((((((None, None), None), None), None), None), None),\n",
       "               65.55491143925182),\n",
       "              None),\n",
       "             60.53852089092682),\n",
       "            None),\n",
       "           None),\n",
       "          None),\n",
       "         None),\n",
       "        None),\n",
       "       None),\n",
       "      None),\n",
       "     None),\n",
       "    None),\n",
       "   None)),\n",
       " ('3787',\n",
       "  (((((((((((((((((((None, 194.6512348623165), None), None), None), None),\n",
       "                None),\n",
       "               None),\n",
       "              None),\n",
       "             None),\n",
       "            None),\n",
       "           None),\n",
       "          None),\n",
       "         None),\n",
       "        None),\n",
       "       None),\n",
       "      None),\n",
       "     None),\n",
       "    None),\n",
       "   None)),\n",
       " ('88746',\n",
       "  (((((((((((((((((((None, None), None), None), None), None), None), None),\n",
       "              None),\n",
       "             None),\n",
       "            None),\n",
       "           None),\n",
       "          None),\n",
       "         None),\n",
       "        None),\n",
       "       None),\n",
       "      None),\n",
       "     None),\n",
       "    12.408794640247791),\n",
       "   None)),\n",
       " ('3299',\n",
       "  (((((((((((((((((((None, 38.9302469724633), None), None), None), None),\n",
       "                None),\n",
       "               None),\n",
       "              None),\n",
       "             None),\n",
       "            None),\n",
       "           None),\n",
       "          None),\n",
       "         None),\n",
       "        None),\n",
       "       None),\n",
       "      None),\n",
       "     None),\n",
       "    None),\n",
       "   None)),\n",
       " ('536',\n",
       "  (((((((((((((((((((None, None), None), 121.48958518353434), None), None),\n",
       "                None),\n",
       "               None),\n",
       "              None),\n",
       "             None),\n",
       "            None),\n",
       "           None),\n",
       "          None),\n",
       "         None),\n",
       "        None),\n",
       "       22.893967362338124),\n",
       "      None),\n",
       "     None),\n",
       "    None),\n",
       "   None)),\n",
       " ('1606',\n",
       "  (((((((((((((((((((None, None), None), None), 104.6075012775199), None),\n",
       "                None),\n",
       "               None),\n",
       "              None),\n",
       "             None),\n",
       "            None),\n",
       "           None),\n",
       "          None),\n",
       "         None),\n",
       "        None),\n",
       "       None),\n",
       "      None),\n",
       "     None),\n",
       "    None),\n",
       "   None)),\n",
       " ('117533',\n",
       "  (((((((((((((((((((None, None), None), None), None), None), None), None),\n",
       "              None),\n",
       "             None),\n",
       "            20.74852372138992),\n",
       "           None),\n",
       "          None),\n",
       "         None),\n",
       "        None),\n",
       "       None),\n",
       "      None),\n",
       "     None),\n",
       "    None),\n",
       "   9.883101417291744)),\n",
       " ('66511',\n",
       "  (((((((((((((((((((None, None), None), None), None), None), None), None),\n",
       "              None),\n",
       "             None),\n",
       "            25.935654651737398),\n",
       "           None),\n",
       "          None),\n",
       "         None),\n",
       "        None),\n",
       "       None),\n",
       "      None),\n",
       "     None),\n",
       "    None),\n",
       "   None)),\n",
       " ('2024',\n",
       "  (((((((((((((((((((None, None), None), None), None), None),\n",
       "                76.94616346810088),\n",
       "               None),\n",
       "              None),\n",
       "             None),\n",
       "            None),\n",
       "           None),\n",
       "          None),\n",
       "         None),\n",
       "        None),\n",
       "       None),\n",
       "      None),\n",
       "     None),\n",
       "    None),\n",
       "   None)),\n",
       " ('2630',\n",
       "  (((((((((((((((((((None, None), None), None), None), 86.74833260097932),\n",
       "                None),\n",
       "               None),\n",
       "              None),\n",
       "             None),\n",
       "            None),\n",
       "           None),\n",
       "          None),\n",
       "         None),\n",
       "        None),\n",
       "       None),\n",
       "      None),\n",
       "     None),\n",
       "    None),\n",
       "   None)),\n",
       " ('549',\n",
       "  (((((((((((((((((((None, None), 161.8295357644145), None), None), None),\n",
       "                None),\n",
       "               None),\n",
       "              None),\n",
       "             None),\n",
       "            None),\n",
       "           None),\n",
       "          None),\n",
       "         None),\n",
       "        None),\n",
       "       None),\n",
       "      None),\n",
       "     None),\n",
       "    None),\n",
       "   None)),\n",
       " ('6983',\n",
       "  (((((((((((((((((((None, None), None), None), None), None), None), None),\n",
       "              None),\n",
       "             None),\n",
       "            None),\n",
       "           None),\n",
       "          None),\n",
       "         None),\n",
       "        None),\n",
       "       None),\n",
       "      None),\n",
       "     None),\n",
       "    None),\n",
       "   None)),\n",
       " ('4428',\n",
       "  (((((((((((((((((((61.928262379071725, None), None), None), None), None),\n",
       "                None),\n",
       "               None),\n",
       "              None),\n",
       "             None),\n",
       "            None),\n",
       "           None),\n",
       "          None),\n",
       "         None),\n",
       "        None),\n",
       "       None),\n",
       "      None),\n",
       "     None),\n",
       "    None),\n",
       "   None))]"
      ]
     },
     "execution_count": 208,
     "metadata": {},
     "output_type": "execute_result"
    }
   ],
   "source": [
    "%%time\n",
    "#build an array toMovies*10Users\n",
    "rddInitial=sc.parallelize([(elem,i) for i,elem in enumerate(top10moviesId)])\n",
    "rddTemp=rddPlot.filter(lambda x: x[0]==top10usersId[0]).map(lambda x: (x[1],x[2]))\n",
    "rddJoin=rddInitial.leftOuterJoin(rddTemp).map(lambda x:(x[0],x[1][1]))\n",
    "for userId in top10usersId[1:]:\n",
    "    rddTemp=rddPlot.filter(lambda x: x[0]==userId).map(lambda x: (x[1],x[2]))\n",
    "    rddJoin=rddJoin.leftOuterJoin(rddTemp)#.map(lambda x: (x[0],str(x[1]).replace(\"(\",\"\").replace(\")\",\"\")))\n",
    "\n",
    "dataFinal=rddJoin.collect()\n",
    "dataFinal1=[[elem[0],elem[1]] for elem in dataFinal]\n",
    "\n",
    "for elem in dataFinal1: \n",
    "    elem[1]=str(elem[1]).replace(\"(\",\"\").replace(\")\",\"\").replace(\" \",\"\")\n",
    "#     elem[1]\n",
    "\n",
    "dataToPlot=[[round(float(i),0) if i!='None' else 0 for i in elem[1].split(\",\")] for elem in dataFinal1]\n",
    "\n",
    "print(dataToPlot[:2])\n",
    "\n",
    "top10moviesIdPlot=rddJoin.map(lambda x:x[0]).collect() #to have the same order than the dataToPlot"
   ]
  },
  {
   "cell_type": "code",
   "execution_count": 211,
   "metadata": {},
   "outputs": [
    {
     "data": {
      "image/png": "[encoded data removed]",
      "text/plain": [
       "<Figure size 576x576 with 1 Axes>"
      ]
     },
     "metadata": {
      "needs_background": "light"
     },
     "output_type": "display_data"
    }
   ],
   "source": [
    "import matplotlib.pyplot as plt\n",
    "\n",
    "users = top10usersId #I change it to 20\n",
    "movies = top10moviesIdPlot #I change it to 20\n",
    "\n",
    "harvest = np.array(dataToPlot)\n",
    "\n",
    "fig, ax = plt.subplots(figsize=(8,8))\n",
    "# fig.figure(figsize=(12,10))\n",
    "im = ax.imshow(harvest)\n",
    "\n",
    "# We want to show all ticks...\n",
    "ax.set_xticks(np.arange(len(movies)))\n",
    "ax.set_yticks(np.arange(len(users)))\n",
    "# ... and label them with the respective list entries\n",
    "ax.set_xticklabels(movies)\n",
    "ax.set_yticklabels(users)\n",
    "ax.set_xlabel('Top 20 Movies',fontsize=12)\n",
    "ax.set_ylabel('Top 20 UserIds',fontsize=12)\n",
    "\n",
    "# Rotate the tick labels and set their alignment.\n",
    "plt.setp(ax.get_xticklabels(), rotation=45, ha=\"right\",\n",
    "         rotation_mode=\"anchor\")\n",
    "\n",
    "# Loop over data dimensions and create text annotations.\n",
    "for i in range(len(users)):\n",
    "    for j in range(len(movies)):\n",
    "        text = ax.text(j, i, harvest[i, j],\n",
    "                       ha=\"center\", va=\"center\", color=\"w\")\n",
    "\n",
    "ax.set_title(\"Note * Simil\")\n",
    "fig.tight_layout()\n",
    "plt.show()"
   ]
  },
  {
   "cell_type": "markdown",
   "metadata": {},
   "source": [
    "# If you are finished within the time of the lab session"
   ]
  },
  {
   "cell_type": "markdown",
   "metadata": {},
   "source": [
    "### Change the following function so that it does not use filter (its effect should not change)"
   ]
  },
  {
   "cell_type": "code",
   "execution_count": 89,
   "metadata": {},
   "outputs": [],
   "source": [
    "def applyFilter(myRDD,myFunction):\n",
    "    return myRDD.filter(myFunction)"
   ]
  },
  {
   "cell_type": "markdown",
   "metadata": {},
   "source": [
    "### Change the following function so that it does not use groupByKey (its effect should not change)"
   ]
  },
  {
   "cell_type": "code",
   "execution_count": 90,
   "metadata": {},
   "outputs": [],
   "source": [
    "def grouping(myRDD):\n",
    "    return myRDD.groupByKey()"
   ]
  },
  {
   "cell_type": "markdown",
   "metadata": {},
   "source": [
    "### Change the following function so that it does not use distinct (its effect should not change)"
   ]
  },
  {
   "cell_type": "code",
   "execution_count": 91,
   "metadata": {},
   "outputs": [],
   "source": [
    "def distinct(myRDD):\n",
    "    return myRDD.distinct()"
   ]
  },
  {
   "cell_type": "markdown",
   "metadata": {},
   "source": [
    "### Challenges"
   ]
  },
  {
   "cell_type": "markdown",
   "metadata": {},
   "source": [
    "1 - Given a graph $G$ given as a list of pairs $x,y$ stating that there is an edge $(x,y)$,  determine the set of nodes reachable from the node $0$."
   ]
  },
  {
   "cell_type": "markdown",
   "metadata": {},
   "source": [
    "2 - Given a graph $G$ compute the distance between the node $0$ and the node $1$. "
   ]
  },
  {
   "cell_type": "markdown",
   "metadata": {},
   "source": [
    "3 - Given a graph $G$ determine whether $G$ is connex."
   ]
  }
 ],
 "metadata": {
  "kernelspec": {
   "display_name": "Python 3",
   "language": "python",
   "name": "python3"
  },
  "language_info": {
   "codemirror_mode": {
    "name": "ipython",
    "version": 3
   },
   "file_extension": ".py",
   "mimetype": "text/x-python",
   "name": "python",
   "nbconvert_exporter": "python",
   "pygments_lexer": "ipython3",
   "version": "3.6.5"
  }
 },
 "nbformat": 4,
 "nbformat_minor": 4
}
