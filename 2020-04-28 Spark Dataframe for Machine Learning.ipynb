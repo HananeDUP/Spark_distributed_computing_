{
 "cells": [
  {
   "cell_type": "markdown",
   "metadata": {},
   "source": [
    "# Setting up the plot"
   ]
  },
  {
   "cell_type": "code",
   "execution_count": 7,
   "metadata": {},
   "outputs": [],
   "source": [
    "%matplotlib inline\n",
    "\n",
    "import matplotlib\n",
    "import numpy as np\n",
    "import matplotlib.pyplot as plt"
   ]
  },
  {
   "cell_type": "code",
   "execution_count": 8,
   "metadata": {},
   "outputs": [],
   "source": [
    "from pyspark.ml.classification import DecisionTreeClassifier\n",
    "from pyspark.ml.evaluation import BinaryClassificationEvaluator, MulticlassClassificationEvaluator"
   ]
  },
  {
   "cell_type": "markdown",
   "metadata": {},
   "source": [
    "corrections\n",
    "https://louis.jachiet.com/tmp/qVgQt1LKnsv_TP2.html"
   ]
  },
  {
   "cell_type": "markdown",
   "metadata": {},
   "source": [
    "# Spark ML\n",
    "\n",
    "In this lab, we will identify malign/benign brest cancers\n",
    "\n",
    "I downloaded the dataset at the url: http://archive.ics.uci.edu/ml/machine-learning-databases/breast-cancer-wisconsin/breast-cancer-wisconsin.data and putted it in hdfs for you."
   ]
  },
  {
   "cell_type": "markdown",
   "metadata": {},
   "source": [
    "# Load the data into a Dataframe"
   ]
  },
  {
   "cell_type": "code",
   "execution_count": 9,
   "metadata": {},
   "outputs": [
    {
     "name": "stdout",
     "output_type": "stream",
     "text": [
      "+--------------------------------------+-----+\n",
      "|features                              |label|\n",
      "+--------------------------------------+-----+\n",
      "|[5.0,1.0,1.0,1.0,2.0,1.0,3.0,1.0,1.0] |0    |\n",
      "|[5.0,4.0,4.0,5.0,7.0,10.0,3.0,2.0,1.0]|0    |\n",
      "|[3.0,1.0,1.0,1.0,2.0,2.0,3.0,1.0,1.0] |0    |\n",
      "|[6.0,8.0,8.0,1.0,3.0,4.0,3.0,7.0,1.0] |0    |\n",
      "|[4.0,1.0,1.0,3.0,2.0,1.0,3.0,1.0,1.0] |0    |\n",
      "+--------------------------------------+-----+\n",
      "only showing top 5 rows\n",
      "\n"
     ]
    }
   ],
   "source": [
    "from pyspark.sql.types import StructType, StructField, DoubleType, IntegerType\n",
    "from pyspark.ml.feature import VectorAssembler\n",
    "from pyspark.sql import SQLContext\n",
    "from pyspark.ml.linalg import VectorUDT,Vectors\n",
    "\n",
    "def toFloat(x):\n",
    "    if x == '?':\n",
    "        return 5.0\n",
    "    else:\n",
    "        return float(x)\n",
    "\n",
    "def doLine(l):\n",
    "    item=l.split(\",\")\n",
    "    label = 1\n",
    "    if item[10]=='2':\n",
    "        label=0\n",
    "    return (Vectors.dense([toFloat(e) for e in item[1:10]]),label)\n",
    "    \n",
    "raw_data = sc.textFile(\"hdfs:///datasets/breast-cancer-wisconsin.data\")\n",
    "schema = StructType([StructField(\"features\", VectorUDT(), True),StructField(\"label\",IntegerType(),True)])\n",
    "data = SQLContext(sc).createDataFrame(raw_data.map(doLine),schema)\n",
    "data.show(5,truncate=False)"
   ]
  },
  {
   "cell_type": "code",
   "execution_count": 4,
   "metadata": {},
   "outputs": [
    {
     "data": {
      "text/plain": [
       "['1000025,5,1,1,1,2,1,3,1,1,2',\n",
       " '1002945,5,4,4,5,7,10,3,2,1,2',\n",
       " '1015425,3,1,1,1,2,2,3,1,1,2',\n",
       " '1016277,6,8,8,1,3,4,3,7,1,2',\n",
       " '1017023,4,1,1,3,2,1,3,1,1,2']"
      ]
     },
     "execution_count": 4,
     "metadata": {},
     "output_type": "execute_result"
    }
   ],
   "source": [
    "# raw_data.collect()\n",
    "raw_data.take(5)"
   ]
  },
  {
   "cell_type": "code",
   "execution_count": 5,
   "metadata": {},
   "outputs": [
    {
     "name": "stdout",
     "output_type": "stream",
     "text": [
      "root\n",
      " |-- features: vector (nullable = true)\n",
      " |-- label: integer (nullable = true)\n",
      "\n"
     ]
    }
   ],
   "source": [
    "data.printSchema()"
   ]
  },
  {
   "cell_type": "markdown",
   "metadata": {},
   "source": [
    "## What is the number of benigns and maligns tumor ?"
   ]
  },
  {
   "cell_type": "code",
   "execution_count": 25,
   "metadata": {},
   "outputs": [],
   "source": [
    "# data.createOrReplaceTempView(\"data\") #==> pour faire du sql "
   ]
  },
  {
   "cell_type": "code",
   "execution_count": 6,
   "metadata": {},
   "outputs": [
    {
     "name": "stdout",
     "output_type": "stream",
     "text": [
      "+-----+-----+\n",
      "|label|count|\n",
      "+-----+-----+\n",
      "|    1|  241|\n",
      "|    0|  458|\n",
      "+-----+-----+\n",
      "\n"
     ]
    }
   ],
   "source": [
    "data.groupBy('label').count().show()\n",
    "# print(\"# of 0\", data.filter(data['label']==0).count())\n",
    "# print(\"# of 1\",data.filter(data['label']==1).count())"
   ]
  },
  {
   "cell_type": "code",
   "execution_count": 27,
   "metadata": {},
   "outputs": [
    {
     "name": "stdout",
     "output_type": "stream",
     "text": [
      "+---------------------+\n",
      "|count(DISTINCT label)|\n",
      "+---------------------+\n",
      "|                    2|\n",
      "+---------------------+\n",
      "\n"
     ]
    }
   ],
   "source": [
    "from pyspark.sql.functions import col, countDistinct\n",
    "data.select(countDistinct(col('label'))).show()"
   ]
  },
  {
   "cell_type": "markdown",
   "metadata": {},
   "source": [
    "## 2 Splitting into training and testing"
   ]
  },
  {
   "cell_type": "code",
   "execution_count": 7,
   "metadata": {},
   "outputs": [],
   "source": [
    "train,test = data.randomSplit([0.9,0.1],seed=42)"
   ]
  },
  {
   "cell_type": "code",
   "execution_count": 8,
   "metadata": {},
   "outputs": [
    {
     "name": "stdout",
     "output_type": "stream",
     "text": [
      "train 624\n",
      "test 75\n"
     ]
    }
   ],
   "source": [
    "print(\"train\", train.count())\n",
    "print(\"test\", test.count())"
   ]
  },
  {
   "cell_type": "markdown",
   "metadata": {},
   "source": [
    "## 3 Train a first model"
   ]
  },
  {
   "cell_type": "code",
   "execution_count": 10,
   "metadata": {},
   "outputs": [],
   "source": [
    "# Train a DecisionTree model.\n",
    "clf = DecisionTreeClassifier(labelCol=\"label\", featuresCol=\"features\")\n",
    "bc_model = clf.fit(train)"
   ]
  },
  {
   "cell_type": "markdown",
   "metadata": {},
   "source": [
    "## 4 - Evaluate the model"
   ]
  },
  {
   "cell_type": "markdown",
   "metadata": {},
   "source": [
    "<div class=\"alert alert-block alert-danger\">\n",
    "DO: What does the DataFrame prediction contain ?<br/>\n",
    "DO: What is the area under ROC of our classifier ?<br/>\n",
    "DO: What is the accuracy of our classifier ?<br/>\n",
    "    </div>"
   ]
  },
  {
   "cell_type": "markdown",
   "metadata": {},
   "source": [
    "<div class=\"alert alert-block alert-info\">\n",
    "\n",
    "DO: What does the DataFrame prediction contain ?\n",
    "<p>\n",
    "Raw prediction for each possible label: gives a measure of confidence in each possible label (where larger = more confident).\n",
    "    368 for 0 and 1 for 1 ==> measure of confidence in the label 0 is higher than the one for 1\n",
    "</p>\n",
    "<p>\n",
    "probability:\n",
    "    probability to predict each class\n",
    "</p>\n",
    "<p>\n",
    "area Under ROC:\n",
    "    AreaUnderROC = probabilité de correctement distinguer 2 échantillons, 1 négatif et 1 positif\n",
    "</p>\n",
    "</div>"
   ]
  },
  {
   "cell_type": "code",
   "execution_count": 16,
   "metadata": {},
   "outputs": [
    {
     "name": "stdout",
     "output_type": "stream",
     "text": [
      "areaUnderROC 0.9322742474916389\n",
      "accuracy 0.9333333333333333\n"
     ]
    }
   ],
   "source": [
    "predictions = bc_model.transform(test)\n",
    "evaluator = BinaryClassificationEvaluator(labelCol=\"label\",metricName='areaUnderROC')\n",
    "result = evaluator.evaluate(predictions)\n",
    "print(\"areaUnderROC\",result)\n",
    "print(\"accuracy\",predictions.filter(\"label=prediction\").count()/predictions.count())"
   ]
  },
  {
   "cell_type": "code",
   "execution_count": 15,
   "metadata": {},
   "outputs": [
    {
     "name": "stdout",
     "output_type": "stream",
     "text": [
      "+-------------------------------------+-----+-------------+-----------------------------------------+----------+\n",
      "|features                             |label|rawPrediction|probability                              |prediction|\n",
      "+-------------------------------------+-----+-------------+-----------------------------------------+----------+\n",
      "|[1.0,1.0,1.0,1.0,1.0,1.0,2.0,1.0,1.0]|0    |[368.0,1.0]  |[0.997289972899729,0.0027100271002710027]|0.0       |\n",
      "|[1.0,1.0,1.0,1.0,2.0,1.0,1.0,1.0,1.0]|0    |[368.0,1.0]  |[0.997289972899729,0.0027100271002710027]|0.0       |\n",
      "|[1.0,1.0,1.0,1.0,2.0,1.0,3.0,1.0,1.0]|0    |[368.0,1.0]  |[0.997289972899729,0.0027100271002710027]|0.0       |\n",
      "|[1.0,1.0,1.0,1.0,2.0,1.0,3.0,2.0,1.0]|0    |[368.0,1.0]  |[0.997289972899729,0.0027100271002710027]|0.0       |\n",
      "|[1.0,1.0,1.0,1.0,2.0,2.0,2.0,1.0,1.0]|0    |[368.0,1.0]  |[0.997289972899729,0.0027100271002710027]|0.0       |\n",
      "+-------------------------------------+-----+-------------+-----------------------------------------+----------+\n",
      "only showing top 5 rows\n",
      "\n"
     ]
    }
   ],
   "source": [
    "predictions = bc_model.transform(test)\n",
    "predictions.show(5,truncate=False)"
   ]
  },
  {
   "cell_type": "markdown",
   "metadata": {},
   "source": [
    "## Show trained model"
   ]
  },
  {
   "cell_type": "code",
   "execution_count": 20,
   "metadata": {},
   "outputs": [
    {
     "name": "stdout",
     "output_type": "stream",
     "text": [
      "5\n",
      "32\n"
     ]
    }
   ],
   "source": [
    "# print(bc_model.toDebugString)\n",
    "print(bc_model._java_obj.getMaxDepth())\n",
    "print(bc_model._java_obj.getMaxBins())"
   ]
  },
  {
   "cell_type": "markdown",
   "metadata": {},
   "source": [
    "## Optional: Plot the ROC curve"
   ]
  },
  {
   "cell_type": "markdown",
   "metadata": {},
   "source": [
    "<div class=\"alert alert-block alert-danger\"> Remarque: J'ai modifié la fonction plot pour pouvoir afficher la légende dans les graphes </div>"
   ]
  },
  {
   "cell_type": "code",
   "execution_count": 22,
   "metadata": {},
   "outputs": [],
   "source": [
    "def get_curve(predictions):\n",
    "    points = predictions.select('label','probability').rdd.map(lambda row: (float(row['probability'][1]), float(row['label']))).collect()\n",
    "    # points should be array containing on the first column \n",
    "    # the probability of being a 1 and in the second column\n",
    "    # the label.\n",
    "    points.sort()# sorts the points on the probability\n",
    "    \n",
    "    # First we compute the total number of True and False\n",
    "    nbFalse = 0.\n",
    "    nbTrue = 0.\n",
    "    for i in points:\n",
    "        nbFalse += i[1]\n",
    "        nbTrue += 1-i[1]\n",
    "    \n",
    "    # We now use a sliding window algorithm to compute the ROC points\n",
    "    # At the beggining we have seen 0 False, 0 True\n",
    "    false_positive = 0\n",
    "    true_positive = 0\n",
    "    fpr=[0]\n",
    "    tpr=[0]\n",
    "    last_proba = -1 # we want one point for each possible threshold\n",
    "    for (proba,label) in points:\n",
    "        false_positive += label\n",
    "        true_positive += 1-label\n",
    "        if last_proba == proba: # remove last point if it was not taking into\n",
    "            del tpr[-1]         # account all the points at a given threshold\n",
    "            del fpr[-1]\n",
    "        last_proba = proba\n",
    "        fpr.append(false_positive/nbFalse)\n",
    "        tpr.append(true_positive/nbTrue)\n",
    "    \n",
    "    fpr.append(1)\n",
    "    tpr.append(1)\n",
    "    return (fpr,tpr)\n",
    "        \n",
    "def get_area(xs,ys):\n",
    "    # supposes that the curve starts in (0,0) and finishes in (1,1)\n",
    "    area = 0\n",
    "    last_x = 0\n",
    "    last_y = 0\n",
    "    for i in range(len(xs)):\n",
    "        area += (xs[i]-last_x)*(ys[i]+last_y)/2.\n",
    "        last_x = xs[i]\n",
    "        last_y = ys[i]\n",
    "    return area\n",
    "\n",
    "def plot(*spredictions):\n",
    "    plt.title(\"ROC\")\n",
    "    plt.xlabel(\"FPR\")\n",
    "    plt.ylabel(\"TPR\")\n",
    "    \n",
    "#     print(\"spredictions\",spredictions)\n",
    "#     for predictions in spredictions:\n",
    "    for predictions in spredictions:\n",
    "        FPR,TPR = get_curve(predictions[1])\n",
    "        area = get_area(FPR,TPR)\n",
    "        print(\"Area Under ROC \"+str(area))\n",
    "        plt.plot(FPR,TPR,label=predictions[0])\n",
    "        plt.legend()"
   ]
  },
  {
   "cell_type": "code",
   "execution_count": 23,
   "metadata": {},
   "outputs": [
    {
     "name": "stdout",
     "output_type": "stream",
     "text": [
      "Area Under ROC 0.9331103678929766\n"
     ]
    },
    {
     "data": {
      "image/png": "[encoded data removed]",
      "text/plain": [
       "<Figure size 432x288 with 1 Axes>"
      ]
     },
     "metadata": {
      "needs_background": "light"
     },
     "output_type": "display_data"
    }
   ],
   "source": [
    "plot((\"first run\",predictions))"
   ]
  },
  {
   "cell_type": "markdown",
   "metadata": {},
   "source": [
    "## Grid builder"
   ]
  },
  {
   "cell_type": "code",
   "execution_count": 24,
   "metadata": {},
   "outputs": [],
   "source": [
    "from pyspark.ml.tuning import ParamGridBuilder, TrainValidationSplit, CrossValidator"
   ]
  },
  {
   "cell_type": "markdown",
   "metadata": {},
   "source": [
    "##### DO: Use train-validation to determine a good set of parameters."
   ]
  },
  {
   "cell_type": "code",
   "execution_count": 25,
   "metadata": {},
   "outputs": [
    {
     "name": "stdout",
     "output_type": "stream",
     "text": [
      "CPU times: user 1.7 s, sys: 664 ms, total: 2.36 s\n",
      "Wall time: 25.8 s\n"
     ]
    }
   ],
   "source": [
    "%%time\n",
    "clf=DecisionTreeClassifier(labelCol=\"label\", featuresCol=\"features\")\n",
    "paramGrid = ParamGridBuilder()\\\n",
    "        .addGrid(clf.impurity, [\"entropy\", \"gini\"])\\\n",
    "        .addGrid(clf.maxDepth,[1,3,5,7])\\\n",
    "        .addGrid(clf.maxBins,[2,5,10,20,32])\\\n",
    "        .build()\n",
    "evaluator = BinaryClassificationEvaluator(labelCol=\"label\",metricName='areaUnderROC')\n",
    "tvs = TrainValidationSplit(estimator=clf,\n",
    "                           estimatorParamMaps=paramGrid,\n",
    "                           evaluator=evaluator,\n",
    "                           # 80% of the data will be used for training, 20% for validation.\n",
    "                           trainRatio=0.9)\n",
    "# Run TrainValidationSplit, and choose the best set of parameters.\n",
    "modelBest1 = tvs.fit(train)"
   ]
  },
  {
   "cell_type": "code",
   "execution_count": 35,
   "metadata": {},
   "outputs": [
    {
     "name": "stdout",
     "output_type": "stream",
     "text": [
      "+--------------------+-----+----------+\n",
      "|            features|label|prediction|\n",
      "+--------------------+-----+----------+\n",
      "|[1.0,1.0,1.0,1.0,...|    0|       0.0|\n",
      "|[1.0,1.0,1.0,1.0,...|    0|       0.0|\n",
      "|[1.0,1.0,1.0,1.0,...|    0|       0.0|\n",
      "|[1.0,1.0,1.0,1.0,...|    0|       0.0|\n",
      "|[1.0,1.0,1.0,1.0,...|    0|       0.0|\n",
      "+--------------------+-----+----------+\n",
      "only showing top 5 rows\n",
      "\n",
      "None\n",
      "auroc 0.967391304347826\n",
      "accuracy 0.96\n"
     ]
    }
   ],
   "source": [
    "predictionsBest1=modelBest1.transform(test)#.select(\"features\", \"label\", \"prediction\")\n",
    "print(predictionsBest1.select(\"features\", \"label\", \"prediction\").show(5))\n",
    "resultBest1=evaluator.evaluate(predictionsBest1)\n",
    "print(\"auroc\",resultBest1)\n",
    "print(\"accuracy\",predictionsBest1.filter(\"label=prediction\").count()/predictionsBest1.count())"
   ]
  },
  {
   "cell_type": "code",
   "execution_count": 29,
   "metadata": {},
   "outputs": [
    {
     "name": "stdout",
     "output_type": "stream",
     "text": [
      "maxDepth 5\n",
      "maxBins 2\n",
      "impurity entropy\n"
     ]
    }
   ],
   "source": [
    "bestModel1=modelBest1.bestModel\n",
    "print(\"maxDepth\",bestModel1._java_obj.getMaxDepth())\n",
    "print(\"maxBins\",bestModel1._java_obj.getMaxBins())\n",
    "print(\"impurity\",bestModel1._java_obj.getImpurity())\n",
    "# print(bestModel.toDebugString)"
   ]
  },
  {
   "cell_type": "markdown",
   "metadata": {},
   "source": [
    "## Cross-validation"
   ]
  },
  {
   "cell_type": "markdown",
   "metadata": {},
   "source": [
    "##### DO: Use cross-validation to determine a good set of parameters."
   ]
  },
  {
   "cell_type": "code",
   "execution_count": 30,
   "metadata": {},
   "outputs": [
    {
     "name": "stdout",
     "output_type": "stream",
     "text": [
      "CPU times: user 8.27 s, sys: 3.44 s, total: 11.7 s\n",
      "Wall time: 1min 34s\n"
     ]
    }
   ],
   "source": [
    "%%time\n",
    "clf=DecisionTreeClassifier(labelCol=\"label\", featuresCol=\"features\")\n",
    "paramGrid = ParamGridBuilder()\\\n",
    "        .addGrid(clf.impurity, [\"entropy\", \"gini\"])\\\n",
    "        .addGrid(clf.maxDepth,[1,3,5,7])\\\n",
    "        .addGrid(clf.maxBins,[2,5,10,20,32])\\\n",
    "        .build()\n",
    "\n",
    "evaluator = BinaryClassificationEvaluator(labelCol=\"label\",metricName='areaUnderROC')\n",
    "\n",
    "crossval = CrossValidator(estimator=clf,\n",
    "                          estimatorParamMaps=paramGrid,\n",
    "                          evaluator=evaluator,\n",
    "                          numFolds=5)  # use 3+ folds in practice\n",
    "\n",
    "# Run cross-validation, and choose the best set of parameters.\n",
    "modelBest2 = crossval.fit(train)"
   ]
  },
  {
   "cell_type": "code",
   "execution_count": 36,
   "metadata": {},
   "outputs": [
    {
     "name": "stdout",
     "output_type": "stream",
     "text": [
      "auroc 0.9753344481605352\n",
      "accuracy 0.96\n",
      "CPU times: user 18.7 ms, sys: 5.16 ms, total: 23.8 ms\n",
      "Wall time: 511 ms\n"
     ]
    }
   ],
   "source": [
    "%%time\n",
    "predictionsBest2=modelBest2.transform(test)#.select(\"features\", \"label\", \"prediction\")\n",
    "resultBest2=evaluator.evaluate(predictionsBest2)\n",
    "print(\"auroc\",resultBest2)\n",
    "print(\"accuracy\",predictionsBest2.filter(\"label=prediction\").count()/predictionsBest2.count())"
   ]
  },
  {
   "cell_type": "code",
   "execution_count": 33,
   "metadata": {},
   "outputs": [
    {
     "name": "stdout",
     "output_type": "stream",
     "text": [
      "maxDepth 3\n",
      "maxBins 5\n",
      "impurity entropy\n"
     ]
    }
   ],
   "source": [
    "bestModel2=modelBest2.bestModel\n",
    "print(\"maxDepth\",bestModel2._java_obj.getMaxDepth())\n",
    "print(\"maxBins\",bestModel2._java_obj.getMaxBins())\n",
    "print(\"impurity\",bestModel2._java_obj.getImpurity())\n",
    "# print(bestModel.toDebugString)"
   ]
  },
  {
   "cell_type": "markdown",
   "metadata": {},
   "source": [
    "## Show best model features"
   ]
  },
  {
   "cell_type": "code",
   "execution_count": 39,
   "metadata": {},
   "outputs": [
    {
     "name": "stdout",
     "output_type": "stream",
     "text": [
      "auroc Best Model 0.975334448160535\n",
      "accuracy 0.96\n"
     ]
    }
   ],
   "source": [
    "clfBest=DecisionTreeClassifier(labelCol=\"label\", featuresCol=\"features\", maxDepth=3, maxBins=5,impurity=\"entropy\")\n",
    "bestModelF = clfBest.fit(train)\n",
    "predictionsBestF = bestModelF.transform(test)\n",
    "evaluator = BinaryClassificationEvaluator(labelCol=\"label\",metricName='areaUnderROC')\n",
    "resultF = evaluator.evaluate(predictionsBestF)\n",
    "print(\"auroc Best Model\", resultF)\n",
    "print(\"accuracy\",predictionsBestF.filter(\"label=prediction\").count()/predictionsBestF.count())"
   ]
  },
  {
   "cell_type": "markdown",
   "metadata": {},
   "source": [
    "## Plot the various ROC of our various models"
   ]
  },
  {
   "cell_type": "markdown",
   "metadata": {},
   "source": [
    "##### DO: What is the area under ROC of your model now ?"
   ]
  },
  {
   "cell_type": "code",
   "execution_count": 40,
   "metadata": {},
   "outputs": [
    {
     "name": "stdout",
     "output_type": "stream",
     "text": [
      "Area Under ROC 0.9753344481605352\n",
      "Area Under ROC 0.9623745819397993\n",
      "Area Under ROC 0.9753344481605352\n"
     ]
    },
    {
     "data": {
      "image/png": "[encoded data removed]",
      "text/plain": [
       "<Figure size 432x288 with 1 Axes>"
      ]
     },
     "metadata": {
      "needs_background": "light"
     },
     "output_type": "display_data"
    }
   ],
   "source": [
    "# plot(cvs_predictions,tvs_predictions,predictions)\n",
    "# tvs_predictions=predictionsBest1\n",
    "# cvs_predictions=predictionsBest2\n",
    "# predictions=predictionsBestF\n",
    "plot((\"cross_val\",predictionsBest2),(\"tvs\",predictionsBest1),(\"best\",predictionsBestF))"
   ]
  },
  {
   "cell_type": "markdown",
   "metadata": {},
   "source": [
    "# Second task"
   ]
  },
  {
   "cell_type": "markdown",
   "metadata": {},
   "source": [
    "# 6.1 Improve the classification"
   ]
  },
  {
   "cell_type": "markdown",
   "metadata": {},
   "source": [
    "##### Consider different models for the Breast Cancer task (e.g. Logistic Regression, Random Forest model and Gradient-boosted tree classifier)."
   ]
  },
  {
   "cell_type": "code",
   "execution_count": 41,
   "metadata": {},
   "outputs": [],
   "source": [
    "from pyspark.ml.classification import LogisticRegression, RandomForestClassifier, GBTClassifier"
   ]
  },
  {
   "cell_type": "code",
   "execution_count": 43,
   "metadata": {},
   "outputs": [],
   "source": [
    "def runModels(models_list,train,test,evaluator):\n",
    "    predictions_set=[]\n",
    "    auroc=[]\n",
    "    accuracy_res=[]\n",
    "\n",
    "    for model_name, model in models_list:\n",
    "#         print(model_name)\n",
    "        clf = model.fit(train)\n",
    "        predictions = clf.transform(test)\n",
    "\n",
    "        result_acc=predictions.filter(\"label=prediction\").count()/predictions.count()\n",
    "        accuracy_res.append((model_name,result_acc))\n",
    "\n",
    "        predictions_set.append((model_name,predictions))\n",
    "\n",
    "        result_auc = evaluator.evaluate(predictions)\n",
    "        auroc.append((model_name,result_auc))\n",
    "\n",
    "        print(\"accuracy \",model_name,\" \", result_acc)\n",
    "        \n",
    "    return predictions_set,accuracy_res,auroc"
   ]
  },
  {
   "cell_type": "code",
   "execution_count": 45,
   "metadata": {},
   "outputs": [
    {
     "name": "stdout",
     "output_type": "stream",
     "text": [
      "accuracy  LR   0.9066666666666666\n",
      "accuracy  RF   0.96\n",
      "accuracy  GBT   0.9466666666666667\n"
     ]
    }
   ],
   "source": [
    "lr = LogisticRegression(labelCol=\"label\", featuresCol=\"features\",maxIter=10, regParam=0.3, elasticNetParam=0.8)\n",
    "rf = RandomForestClassifier(labelCol=\"label\", featuresCol=\"features\", numTrees=10)\n",
    "gbt = GBTClassifier(labelCol=\"label\", featuresCol=\"features\", maxIter=10)\n",
    "\n",
    "models=[('LR',lr),('RF',rf),('GBT',gbt)]\n",
    "evaluator = BinaryClassificationEvaluator(rawPredictionCol=\"rawPrediction\",labelCol=\"label\",metricName='areaUnderROC')\n",
    "predictions_set,accuracy_res,auroc=runModels(models,train,test,evaluator)"
   ]
  },
  {
   "cell_type": "code",
   "execution_count": 46,
   "metadata": {},
   "outputs": [
    {
     "data": {
      "text/plain": [
       "[('LR', 0.9066666666666666), ('RF', 0.96), ('GBT', 0.9466666666666667)]"
      ]
     },
     "execution_count": 46,
     "metadata": {},
     "output_type": "execute_result"
    }
   ],
   "source": [
    "accuracy_res"
   ]
  },
  {
   "cell_type": "code",
   "execution_count": 47,
   "metadata": {},
   "outputs": [
    {
     "data": {
      "text/plain": [
       "[('LR', 0.9974916387959867),\n",
       " ('RF', 0.9832775919732442),\n",
       " ('GBT', 0.9665551839464883)]"
      ]
     },
     "execution_count": 47,
     "metadata": {},
     "output_type": "execute_result"
    }
   ],
   "source": [
    "auroc"
   ]
  },
  {
   "cell_type": "code",
   "execution_count": 49,
   "metadata": {},
   "outputs": [
    {
     "name": "stdout",
     "output_type": "stream",
     "text": [
      "Area Under ROC 0.9974916387959866\n",
      "Area Under ROC 0.9832775919732442\n",
      "Area Under ROC 0.9665551839464883\n"
     ]
    },
    {
     "data": {
      "image/png": "[encoded data removed]",
      "text/plain": [
       "<Figure size 432x288 with 1 Axes>"
      ]
     },
     "metadata": {
      "needs_background": "light"
     },
     "output_type": "display_data"
    }
   ],
   "source": [
    "plot(predictions_set[0],predictions_set[1],predictions_set[2])"
   ]
  },
  {
   "cell_type": "markdown",
   "metadata": {},
   "source": [
    "# 6.2 Another classification task (IRIS dataset)"
   ]
  },
  {
   "cell_type": "markdown",
   "metadata": {},
   "source": [
    "Use the knowledge developed in this lab to classify plants. \n",
    "The dataset is available on the hdfs at hdfs:///datasets/iris.data\n",
    "https://archive.ics.uci.edu/ml/machine-learning-databases/iris/iris.data \n",
    "and presented here https://archive.ics.uci.edu/ml/datasets/Iris \n",
    "You should make a classifier, classifying the species."
   ]
  },
  {
   "cell_type": "code",
   "execution_count": 134,
   "metadata": {
    "scrolled": false
   },
   "outputs": [
    {
     "name": "stdout",
     "output_type": "stream",
     "text": [
      "+-----------------+-----+\n",
      "|         features|label|\n",
      "+-----------------+-----+\n",
      "|[5.1,3.5,1.4,0.2]|    0|\n",
      "|[4.9,3.0,1.4,0.2]|    0|\n",
      "|[4.7,3.2,1.3,0.2]|    0|\n",
      "|[4.6,3.1,1.5,0.2]|    0|\n",
      "|[5.0,3.6,1.4,0.2]|    0|\n",
      "+-----------------+-----+\n",
      "only showing top 5 rows\n",
      "\n"
     ]
    }
   ],
   "source": [
    "from pyspark.sql.types import StringType\n",
    "# raw_data = sc.textFile(\"hdfs:///datasets/iris.data\")\n",
    "\n",
    "def doLine(l):\n",
    "    item=l.split(\",\")\n",
    "    if len(item)==5:\n",
    "        if item[4]=='Iris-versicolor':\n",
    "            label=1\n",
    "        elif item[4]=='Iris-virginica':\n",
    "            label=2\n",
    "        else:\n",
    "            label = 0\n",
    "        res=(Vectors.dense([toFloat(e) for e in item[0:4]]),label)\n",
    "    else:\n",
    "        res=1\n",
    "    return res\n",
    "\n",
    "#setosa =0, versicolor=1, virginica=2\n",
    "\n",
    "raw_data = sc.textFile(\"hdfs:///datasets/iris.data\")\n",
    "schema = StructType([StructField(\"features\", VectorUDT(), True),StructField(\"label\",IntegerType(),True)])\n",
    "dataIris = SQLContext(sc).createDataFrame(raw_data.map(doLine).filter(lambda l: l!=1),schema)\n",
    "dataIris.show(5)"
   ]
  },
  {
   "cell_type": "code",
   "execution_count": 52,
   "metadata": {},
   "outputs": [
    {
     "name": "stdout",
     "output_type": "stream",
     "text": [
      "+-----+-----+\n",
      "|label|count|\n",
      "+-----+-----+\n",
      "|    1|   50|\n",
      "|    2|   50|\n",
      "|    0|   50|\n",
      "+-----+-----+\n",
      "\n"
     ]
    }
   ],
   "source": [
    "dataIris.groupBy('label').count().show()"
   ]
  },
  {
   "cell_type": "code",
   "execution_count": 53,
   "metadata": {},
   "outputs": [
    {
     "name": "stdout",
     "output_type": "stream",
     "text": [
      "# train 115\n",
      "# train 35\n"
     ]
    }
   ],
   "source": [
    "trainIris, testIris=dataIris.randomSplit([0.8,0.2],seed=42)\n",
    "print(\"# train\", trainIris.count())\n",
    "print(\"# train\", testIris.count())"
   ]
  },
  {
   "cell_type": "markdown",
   "metadata": {},
   "source": [
    "##### Normalization & Model training"
   ]
  },
  {
   "cell_type": "code",
   "execution_count": 55,
   "metadata": {},
   "outputs": [],
   "source": [
    "from pyspark.ml.feature import StandardScaler"
   ]
  },
  {
   "cell_type": "code",
   "execution_count": 56,
   "metadata": {
    "scrolled": false
   },
   "outputs": [
    {
     "name": "stdout",
     "output_type": "stream",
     "text": [
      "accuracy  LR   0.4\n",
      "accuracy  RF   0.9714285714285714\n"
     ]
    }
   ],
   "source": [
    "# StandardScaler\n",
    "scaler = StandardScaler(inputCol=\"features\", outputCol=\"scaledFeatures\",withStd=True, withMean=True)\n",
    "scalerModel = scaler.fit(trainIris)\n",
    "train_sc = scalerModel.transform(trainIris)\n",
    "test_sc  = scalerModel.transform(testIris)\n",
    "\n",
    "# lr = LogisticRegression(labelCol=\"label\", featuresCol=\"features\",maxIter=10, regParam=0.3, elasticNetParam=0.8)\n",
    "# rf = RandomForestClassifier(labelCol=\"label\", featuresCol=\"features\", numTrees=10)\n",
    "\n",
    "lr = LogisticRegression(labelCol=\"label\", featuresCol=\"scaledFeatures\",maxIter=10, regParam=0.3, elasticNetParam=0.8)\n",
    "rf = RandomForestClassifier(labelCol=\"label\", featuresCol=\"scaledFeatures\", numTrees=10)\n",
    "\n",
    "models=[('LR',lr),('RF',rf)]\n",
    "\n",
    "evaluator = MulticlassClassificationEvaluator(labelCol=\"label\",metricName=\"accuracy\")\n",
    "predictions_set,accuracy_res,auroc=runModels(models,train_sc,test_sc,evaluator)"
   ]
  },
  {
   "cell_type": "code",
   "execution_count": 57,
   "metadata": {},
   "outputs": [
    {
     "data": {
      "text/plain": [
       "[('LR', 0.4), ('RF', 0.9714285714285714)]"
      ]
     },
     "execution_count": 57,
     "metadata": {},
     "output_type": "execute_result"
    }
   ],
   "source": [
    "auroc"
   ]
  },
  {
   "cell_type": "code",
   "execution_count": 58,
   "metadata": {},
   "outputs": [
    {
     "data": {
      "text/plain": [
       "[('LR', 0.4), ('RF', 0.9714285714285714)]"
      ]
     },
     "execution_count": 58,
     "metadata": {},
     "output_type": "execute_result"
    }
   ],
   "source": [
    "accuracy_res"
   ]
  },
  {
   "cell_type": "code",
   "execution_count": 59,
   "metadata": {},
   "outputs": [
    {
     "name": "stdout",
     "output_type": "stream",
     "text": [
      "Area Under ROC 0.07624113475177306\n",
      "Area Under ROC 0.4769503546099291\n"
     ]
    },
    {
     "data": {
      "image/png": "[encoded data removed]",
      "text/plain": [
       "<Figure size 432x288 with 1 Axes>"
      ]
     },
     "metadata": {
      "needs_background": "light"
     },
     "output_type": "display_data"
    }
   ],
   "source": [
    "plot(predictions_set[0],predictions_set[1])"
   ]
  },
  {
   "cell_type": "markdown",
   "metadata": {},
   "source": [
    "# 6.3 Visualization task (IRIS dataset)"
   ]
  },
  {
   "cell_type": "markdown",
   "metadata": {},
   "source": [
    "##### Use the PCA algorithm and matplotlib to help you visualize the Iris dataset (see section above). Can you guess the groups ?"
   ]
  },
  {
   "cell_type": "code",
   "execution_count": 60,
   "metadata": {},
   "outputs": [],
   "source": [
    "from pyspark.ml.feature import PCA\n",
    "import matplotlib.pyplot as plt"
   ]
  },
  {
   "cell_type": "markdown",
   "metadata": {},
   "source": [
    "### In this section, I use the whole data ==> dataIris"
   ]
  },
  {
   "cell_type": "markdown",
   "metadata": {},
   "source": [
    "#### Without normalization"
   ]
  },
  {
   "cell_type": "code",
   "execution_count": 133,
   "metadata": {},
   "outputs": [
    {
     "name": "stdout",
     "output_type": "stream",
     "text": [
      "+-------------------+-------------------+-----+\n",
      "|                PC1|                PC2|label|\n",
      "+-------------------+-------------------+-----+\n",
      "| -2.827135972679017|-5.6413310455733585|    0|\n",
      "|-2.7959524821488357| -5.145166883252947|    0|\n",
      "|-2.6215235581650496| -5.177378121203942|    0|\n",
      "+-------------------+-------------------+-----+\n",
      "only showing top 3 rows\n",
      "\n"
     ]
    },
    {
     "data": {
      "image/png": "[encoded data removed]",
      "text/plain": [
       "<Figure size 432x288 with 1 Axes>"
      ]
     },
     "metadata": {
      "needs_background": "light"
     },
     "output_type": "display_data"
    }
   ],
   "source": [
    "pca = PCA(k=2, inputCol=\"features\", outputCol=\"pcaFeatures\")\n",
    "model = pca.fit(dataIris)\n",
    "\n",
    "dataIris_pca = model.transform(dataIris).select(\"pcaFeatures\",\"label\")\n",
    "# train_pca.show(truncate=False)\n",
    "\n",
    "dataIris_pca=dataIris_pca.rdd.map(lambda x: [float(x[0][0]),float(x[0][1]),x[1]])#convert to three columns\n",
    "dataIrisPca = SQLContext(sc).createDataFrame(dataIris_pca)\n",
    "dataIrisPca=dataIrisPca.toDF('PC1','PC2','label')\n",
    "dataIrisPca.show(3)\n",
    "\n",
    "colors = ['blue', 'green', 'orange']\n",
    "lw = 2\n",
    "label_names=['Iris-setosa','Iris-versicolor','Iris-virginica']\n",
    "\n",
    "for color, i, target_name in zip(colors, [0, 1, 2], label_names):\n",
    "    list_pc1=dataIrisPca.filter(dataIrisPca['label']== i).select(\"PC1\").rdd.map(lambda x: x[0]).collect()\n",
    "    list_pc2=dataIrisPca.filter(dataIrisPca['label']== i).select(\"PC2\").rdd.map(lambda x: x[0]).collect()\n",
    "    \n",
    "    plt.title(\"PC1 and PC2 without normalization\")\n",
    "    plt.scatter(list_pc1,list_pc2,color=color,label=target_name)\n",
    "    plt.legend()"
   ]
  },
  {
   "cell_type": "markdown",
   "metadata": {},
   "source": [
    "#### With normalization"
   ]
  },
  {
   "cell_type": "code",
   "execution_count": 132,
   "metadata": {},
   "outputs": [
    {
     "name": "stdout",
     "output_type": "stream",
     "text": [
      "+------------------+-------------------+-----+\n",
      "|               PC1|                PC2|label|\n",
      "+------------------+-------------------+-----+\n",
      "|2.2569806330680255|-0.5040154042276549|    0|\n",
      "|2.0794591188954015| 0.6532163936125878|    0|\n",
      "|2.3600440815842068| 0.3174139445702809|    0|\n",
      "+------------------+-------------------+-----+\n",
      "only showing top 3 rows\n",
      "\n"
     ]
    },
    {
     "data": {
      "image/png": "[encoded data removed]",
      "text/plain": [
       "<Figure size 432x288 with 1 Axes>"
      ]
     },
     "metadata": {
      "needs_background": "light"
     },
     "output_type": "display_data"
    }
   ],
   "source": [
    "scaler = StandardScaler(inputCol=\"features\", outputCol=\"scaledFeatures\",withStd=True, withMean=True)\n",
    "scalerModel = scaler.fit(dataIris)\n",
    "dataIris_sc = scalerModel.transform(dataIris)\n",
    "\n",
    "pca = PCA(k=2, inputCol=\"scaledFeatures\", outputCol=\"pcaFeatures\")\n",
    "model = pca.fit(dataIris_sc)\n",
    "\n",
    "dataIris_pca = model.transform(dataIris_sc).select(\"pcaFeatures\",\"label\")\n",
    "# train_pca.show(truncate=False)\n",
    "\n",
    "dataIris_pca=dataIris_pca.rdd.map(lambda x: [float(x[0][0]),float(x[0][1]),x[1]])#.collect()\n",
    "dataIrisPca = SQLContext(sc).createDataFrame(dataIris_pca)\n",
    "dataIrisPca=dataIrisPca.toDF('PC1','PC2','label')\n",
    "dataIrisPca.show(3)\n",
    "\n",
    "colors = ['blue', 'green', 'orange']\n",
    "lw = 2\n",
    "label_names=['Iris-setosa','Iris-versicolor','Iris-virginica']\n",
    "\n",
    "for color, i, target_name in zip(colors, [0, 1, 2], label_names):\n",
    "    list_pc1=dataIrisPca.filter(dataIrisPca['label']== i).select(\"PC1\").rdd.map(lambda x: x[0]).collect()\n",
    "    list_pc2=dataIrisPca.filter(dataIrisPca['label']== i).select(\"PC2\").rdd.map(lambda x: x[0]).collect()\n",
    "    \n",
    "    plt.title(\"PC1 and PC2 with normalization\")\n",
    "    plt.scatter(list_pc1,list_pc2,color=color,label=target_name)\n",
    "    plt.legend()"
   ]
  },
  {
   "cell_type": "markdown",
   "metadata": {},
   "source": [
    "# 6.4 Clustering task (IRIS dataset)"
   ]
  },
  {
   "cell_type": "markdown",
   "metadata": {},
   "source": [
    "<div>\n",
    "Remove the “class” information from the IRIS dataset and try to cluster then compare the result \n",
    "of your clustering with the label information.\n",
    "    </div>"
   ]
  },
  {
   "cell_type": "markdown",
   "metadata": {},
   "source": [
    "<h4>Remarque</h4>\n",
    "<div>Je n'ai pas fait de split train and test, j'ai travaillé sur le dataset total, \n",
    "je pense que le but est de voir comment on applique le clustering\n",
    "</div>"
   ]
  },
  {
   "cell_type": "markdown",
   "metadata": {},
   "source": [
    "### Preparing the data"
   ]
  },
  {
   "cell_type": "code",
   "execution_count": 70,
   "metadata": {},
   "outputs": [
    {
     "name": "stdout",
     "output_type": "stream",
     "text": [
      "+-----------------+\n",
      "|         features|\n",
      "+-----------------+\n",
      "|[5.1,3.5,1.4,0.2]|\n",
      "|[4.9,3.0,1.4,0.2]|\n",
      "|[4.7,3.2,1.3,0.2]|\n",
      "|[4.6,3.1,1.5,0.2]|\n",
      "|[5.0,3.6,1.4,0.2]|\n",
      "+-----------------+\n",
      "only showing top 5 rows\n",
      "\n"
     ]
    }
   ],
   "source": [
    "dataIrisCluster=dataIris.select('features')\n",
    "dataIrisCluster.show(5)"
   ]
  },
  {
   "cell_type": "markdown",
   "metadata": {},
   "source": [
    "### KMeans"
   ]
  },
  {
   "cell_type": "code",
   "execution_count": 69,
   "metadata": {},
   "outputs": [],
   "source": [
    "from pyspark.ml.evaluation import ClusteringEvaluator\n",
    "from pyspark.ml.clustering import KMeans"
   ]
  },
  {
   "cell_type": "code",
   "execution_count": 71,
   "metadata": {},
   "outputs": [
    {
     "name": "stdout",
     "output_type": "stream",
     "text": [
      "Silhouette with squared euclidean distance = 0.7342113066202743\n",
      "training cost 78.94506582597703\n",
      "Cluster Centers: \n",
      "[5.88360656 2.74098361 4.38852459 1.43442623]\n",
      "[5.006 3.418 1.464 0.244]\n",
      "[6.85384615 3.07692308 5.71538462 2.05384615]\n"
     ]
    }
   ],
   "source": [
    "# Trains a k-means model.\n",
    "kmeans = KMeans().setK(3).setSeed(1)\n",
    "modelKM = kmeans.fit(dataIrisCluster)\n",
    "\n",
    "# Make predictions\n",
    "predictionsKM = modelKM.transform(dataIrisCluster)\n",
    "\n",
    "# Evaluate clustering by computing Silhouette score\n",
    "evaluator = ClusteringEvaluator()\n",
    "\n",
    "silhouette = evaluator.evaluate(predictionsKM)\n",
    "print(\"Silhouette with squared euclidean distance = \" + str(silhouette))\n",
    "\n",
    "# Evaluate clustering.\n",
    "# computeCost is deprecated and will be removed in 3.0.0\n",
    "# cost = model.computeCost(dataIrisCluster)\n",
    "# print(\"Within Set Sum of Squared Errors = \" + str(cost))\n",
    "\n",
    "print(\"training cost\",modelKM.summary.trainingCost)\n",
    "\n",
    "# Shows the result.\n",
    "print(\"Cluster Centers: \")\n",
    "ctr=[]\n",
    "centers = modelKM.clusterCenters()\n",
    "for center in centers:\n",
    "    ctr.append(center)\n",
    "    print(center)"
   ]
  },
  {
   "cell_type": "code",
   "execution_count": 72,
   "metadata": {},
   "outputs": [
    {
     "name": "stdout",
     "output_type": "stream",
     "text": [
      "cluster size [61, 50, 39]\n",
      "+----------+-----+\n",
      "|prediction|count|\n",
      "+----------+-----+\n",
      "|         1|   50|\n",
      "|         2|   39|\n",
      "|         0|   61|\n",
      "+----------+-----+\n",
      "\n"
     ]
    }
   ],
   "source": [
    "print(\"cluster size\", modelKM.summary.clusterSizes)\n",
    "predictionsKM.groupBy('prediction').count().show()"
   ]
  },
  {
   "cell_type": "markdown",
   "metadata": {},
   "source": [
    "### Gaussian Mixture Model"
   ]
  },
  {
   "cell_type": "code",
   "execution_count": 74,
   "metadata": {},
   "outputs": [],
   "source": [
    "from pyspark.ml.clustering import GaussianMixture"
   ]
  },
  {
   "cell_type": "code",
   "execution_count": 75,
   "metadata": {},
   "outputs": [
    {
     "name": "stdout",
     "output_type": "stream",
     "text": [
      "cluster size [50, 25, 75]\n",
      "+----------+-----+\n",
      "|prediction|count|\n",
      "+----------+-----+\n",
      "|         1|   25|\n",
      "|         2|   75|\n",
      "|         0|   50|\n",
      "+----------+-----+\n",
      "\n"
     ]
    }
   ],
   "source": [
    "gmm = GaussianMixture().setK(3).setSeed(538009335)\n",
    "modelGMM = gmm.fit(dataIrisCluster)\n",
    "predictionsGMM = modelGMM.transform(dataIrisCluster)\n",
    "\n",
    "print(\"cluster size\", modelGMM.summary.clusterSizes)\n",
    "predictionsGMM.groupBy('prediction').count().show()\n",
    "# same than modelGMM.summary.clusterSizes ==> [0,1,2]"
   ]
  },
  {
   "cell_type": "code",
   "execution_count": 76,
   "metadata": {},
   "outputs": [
    {
     "name": "stdout",
     "output_type": "stream",
     "text": [
      "logLikelihood -195.79947157497702\n",
      "GMM weights [0.3333331115229638, 0.15835818952599504, 0.5083086989510411]\n",
      "+------------------------------------------------------------------+\n",
      "|probability                                                       |\n",
      "+------------------------------------------------------------------+\n",
      "|[0.9999999999999951,4.682229962936943E-17,4.868372929925642E-15]  |\n",
      "|[0.9999999997048344,1.0042621613054077E-16,2.9516544389843495E-10]|\n",
      "|[0.9999999999973134,7.291766565131807E-17,2.6865319365371256E-12] |\n",
      "+------------------------------------------------------------------+\n",
      "only showing top 3 rows\n",
      "\n"
     ]
    }
   ],
   "source": [
    "print(\"logLikelihood\", modelGMM.summary.logLikelihood)\n",
    "print(\"GMM weights\", modelGMM.weights)\n",
    "modelGMM.summary.probability.show(3,truncate=False)"
   ]
  },
  {
   "cell_type": "code",
   "execution_count": 66,
   "metadata": {},
   "outputs": [],
   "source": [
    "# modelGMM.gaussiansDF.show(truncate=False)"
   ]
  },
  {
   "cell_type": "markdown",
   "metadata": {},
   "source": [
    "### Compare clustering to real labels"
   ]
  },
  {
   "cell_type": "code",
   "execution_count": 77,
   "metadata": {},
   "outputs": [],
   "source": [
    "dataGby=dataIris.groupBy('label').count().withColumnRenamed(\"count\",\"count_initial\")\n",
    "predKmGby=predictionsKM.groupBy('prediction').count().withColumnRenamed(\"count\",\"count_predKM\")\n",
    "predGmmGby=predictionsGMM.groupBy('prediction').count().withColumnRenamed(\"count\",\"count_predGMM\")"
   ]
  },
  {
   "cell_type": "code",
   "execution_count": 78,
   "metadata": {},
   "outputs": [
    {
     "name": "stdout",
     "output_type": "stream",
     "text": [
      "+-----+-------------+----------+------------+----------+-------------+\n",
      "|label|count_initial|prediction|count_predKM|prediction|count_predGMM|\n",
      "+-----+-------------+----------+------------+----------+-------------+\n",
      "|    0|           50|         0|          61|         0|           50|\n",
      "|    1|           50|         1|          50|         1|           25|\n",
      "|    2|           50|         2|          39|         2|           75|\n",
      "+-----+-------------+----------+------------+----------+-------------+\n",
      "\n"
     ]
    }
   ],
   "source": [
    "first_join=dataGby.join(predKmGby,dataGby['label']==predKmGby['prediction'])\n",
    "df_res=first_join.join(predGmmGby,first_join['label']==predGmmGby['prediction'])\n",
    "df_res=df_res.orderBy('label')\n",
    "df_res.show()\n",
    "# movies.join(ratings, movies[\"movieId\"]==ratings[\"movieId\"])"
   ]
  },
  {
   "cell_type": "markdown",
   "metadata": {},
   "source": [
    "For label 1 ==> same results \n",
    "For label 2 and 3 ==> 11 labels not correctly labelised"
   ]
  },
  {
   "cell_type": "code",
   "execution_count": 79,
   "metadata": {},
   "outputs": [],
   "source": [
    "x_axis=df_res.select('label').rdd.map(lambda x: x[0]).collect()\n",
    "y_raw=df_res.select('count_initial').rdd.map(lambda x: x[0]).collect()\n",
    "y_KM=df_res.select('count_predKM').rdd.map(lambda x: x[0]).collect()\n",
    "y_GMM=df_res.select('count_predGMM').rdd.map(lambda x: x[0]).collect()"
   ]
  },
  {
   "cell_type": "code",
   "execution_count": 92,
   "metadata": {},
   "outputs": [],
   "source": [
    "# import matplotlib.pyplot as plt"
   ]
  },
  {
   "cell_type": "code",
   "execution_count": 80,
   "metadata": {},
   "outputs": [
    {
     "data": {
      "text/plain": [
       "<matplotlib.legend.Legend at 0x7fcb7406d4d0>"
      ]
     },
     "execution_count": 80,
     "metadata": {},
     "output_type": "execute_result"
    },
    {
     "data": {
      "image/png": "[encoded data removed]",
      "text/plain": [
       "<Figure size 432x288 with 1 Axes>"
      ]
     },
     "metadata": {
      "needs_background": "light"
     },
     "output_type": "display_data"
    }
   ],
   "source": [
    "plt.title('Clustering and initial label Comparison')\n",
    "# plt.scatter(x_axis,y_raw,label=\"Initial\")\n",
    "# plt.scatter(x_axis,y_KM,label=\"KMeans\")\n",
    "# plt.scatter(x_axis,y_GMM,label=\"GMM\")\n",
    "\n",
    "plt.plot(x_axis,y_raw,label=\"Initial\")\n",
    "plt.plot(x_axis,y_KM,label=\"KMeans\")\n",
    "plt.plot(x_axis,y_GMM,label=\"GMM\")\n",
    "plt.plot(loc='lower left')\n",
    "\n",
    "plt.legend(loc='lower left')"
   ]
  },
  {
   "cell_type": "markdown",
   "metadata": {},
   "source": [
    "Conclusion: KMeans seems to predict more accurate labels than the GMM"
   ]
  },
  {
   "cell_type": "markdown",
   "metadata": {},
   "source": [
    "## 6.5 Regression task (WINE QUALITY dataset)"
   ]
  },
  {
   "cell_type": "markdown",
   "metadata": {},
   "source": [
    "Estimate Wine Quality based on chemical components. \n",
    "See https://archive.ics.uci.edu/ml/datasets/Wine+Quality for the dataset. \n",
    "The two datasets can be found here : https://archive.ics.uci.edu/ml/machine-learning-databases/wine-quality/ \n",
    "and they are available on the hdfs at\n",
    "hdfs:///datasets/winequality-red.data \n",
    "and \n",
    "hdfs:///datasets/winequality-white.data\n",
    "        \n",
    "(what happens if you train a regression on the white wine dataset and use it for the red wine dataset ?)."
   ]
  },
  {
   "cell_type": "markdown",
   "metadata": {},
   "source": [
    "<div class=\"alert alert-block alert-danger\"> \n",
    "Remarque: J'ai essayé de télécharger les données en utilisant le lien hdfs mais j'ai eu un message d'erreur:\n",
    "    Input path does not exist: hdfs:/datasets/winequality-red.data.\n",
    "<p>J'ai donc opté pour faire du web scaping pour récupérer les données. J'espère que c'est correct ==> il faut aller plus bas après le message d'erreur pour voir la suite </p>\n",
    "    </div>"
   ]
  },
  {
   "cell_type": "code",
   "execution_count": 32,
   "metadata": {},
   "outputs": [
    {
     "name": "stdout",
     "output_type": "stream",
     "text": [
      "+--------------------+-----+\n",
      "|            features|label|\n",
      "+--------------------+-----+\n",
      "|[7.4,0.7,0.0,1.9,...|    5|\n",
      "|[7.8,0.88,0.0,2.6...|    5|\n",
      "|[7.8,0.76,0.04,2....|    5|\n",
      "|[11.2,0.28,0.56,1...|    6|\n",
      "|[7.4,0.7,0.0,1.9,...|    5|\n",
      "+--------------------+-----+\n",
      "only showing top 5 rows\n",
      "\n"
     ]
    }
   ],
   "source": [
    "from pyspark.sql.types import StructType, StructField, DoubleType, IntegerType\n",
    "from pyspark.ml.feature import VectorAssembler\n",
    "from pyspark.sql import SQLContext\n",
    "from pyspark.ml.linalg import VectorUDT,Vectors\n",
    "\n",
    "def doLine(l):\n",
    "    item=l.split(\";\")\n",
    "    return (Vectors.dense([float(e) for e in item[:11]]),int(item[-1]))\n",
    "    \n",
    "raw_data_red = sc.textFile(\"hdfs:///datasets/winequality-red.data\")\n",
    "schema = StructType([StructField(\"features\", VectorUDT(), True),StructField(\"label\",IntegerType(),True)])\n",
    "dataWine = SQLContext(sc).createDataFrame(sc.parallelize(raw_data_red.collect()[1:]).map(doLine),schema)\n",
    "dataWine.show(5)\n",
    "\n",
    "# ==> Message d'erreur : Input path does not exist: hdfs:/datasets/winequality-red.data"
   ]
  },
  {
   "cell_type": "markdown",
   "metadata": {},
   "source": [
    "### Scraping"
   ]
  },
  {
   "cell_type": "markdown",
   "metadata": {},
   "source": [
    "<div>Comme je n'ai pas réussi à accéder aux datasets en utilisant le hdfs ==> j'ai scapé le site \n",
    "\"https://archive.ics.uci.edu/ml/machine-learning-databases/wine-quality/\"</div>"
   ]
  },
  {
   "cell_type": "code",
   "execution_count": 85,
   "metadata": {},
   "outputs": [],
   "source": [
    "from urllib.request import urlopen\n",
    "from urllib.request import urlretrieve"
   ]
  },
  {
   "cell_type": "code",
   "execution_count": 86,
   "metadata": {},
   "outputs": [],
   "source": [
    "#Specify the url\n",
    "link=\"https://archive.ics.uci.edu/ml/machine-learning-databases/wine-quality/\"\n",
    "list_csv=[\"winequality-red.csv\",\"winequality-white.csv\"]\n",
    "\n",
    "########J'ai executé ce code, du coup peut être que vous allez vous retrouvez avec deux fichiers quelques part\n",
    "# for file in list_csv:\n",
    "#      urlretrieve(link+file)\n",
    "\n",
    "responseRed = urlopen(link+list_csv[0])\n",
    "linesRed = responseRed.readlines()\n",
    "\n",
    "responseWhite= urlopen(link+list_csv[1])\n",
    "linesWhite = responseWhite.readlines()"
   ]
  },
  {
   "cell_type": "markdown",
   "metadata": {},
   "source": [
    "#### Red wine data"
   ]
  },
  {
   "cell_type": "code",
   "execution_count": 87,
   "metadata": {},
   "outputs": [
    {
     "data": {
      "text/plain": [
       "[[DenseVector([7.4, 0.7, 0.0, 1.9, 0.076, 11.0, 34.0, 0.9978, 3.51, 0.56]), 5],\n",
       " [DenseVector([7.8, 0.88, 0.0, 2.6, 0.098, 25.0, 67.0, 0.9968, 3.2, 0.68]), 5],\n",
       " [DenseVector([7.8, 0.76, 0.04, 2.3, 0.092, 15.0, 54.0, 0.997, 3.26, 0.65]),\n",
       "  5],\n",
       " [DenseVector([11.2, 0.28, 0.56, 1.9, 0.075, 17.0, 60.0, 0.998, 3.16, 0.58]),\n",
       "  6]]"
      ]
     },
     "execution_count": 87,
     "metadata": {},
     "output_type": "execute_result"
    }
   ],
   "source": [
    "dataRed=[]\n",
    "for line in linesRed:\n",
    "    dataRed.append(str(line).replace(\"b'\",\"\").replace(\"\\\\n'\",\"\"))\n",
    "    \n",
    "headersRed=dataRed[0].replace(\"\\\"\",\"\").split(\";\")\n",
    "dataRed_bis=[[float(i) for i in elem.split(\";\")] for elem in dataRed[1:]] #il faudrait retravailler quality pour mettre en int\n",
    "\n",
    "dataRed_df=[]\n",
    "len_line=len(dataRed_bis[0])\n",
    "for elem in dataRed_bis:\n",
    "    dataRed_df.append([Vectors.dense(elem[:len_line-2]),int(elem[-1])])\n",
    "dataRed_df[:4]"
   ]
  },
  {
   "cell_type": "markdown",
   "metadata": {},
   "source": [
    "#### White wine data"
   ]
  },
  {
   "cell_type": "code",
   "execution_count": 88,
   "metadata": {},
   "outputs": [
    {
     "data": {
      "text/plain": [
       "[[DenseVector([7.0, 0.27, 0.36, 20.7, 0.045, 45.0, 170.0, 1.001, 3.0, 0.45]),\n",
       "  6],\n",
       " [DenseVector([6.3, 0.3, 0.34, 1.6, 0.049, 14.0, 132.0, 0.994, 3.3, 0.49]), 6],\n",
       " [DenseVector([8.1, 0.28, 0.4, 6.9, 0.05, 30.0, 97.0, 0.9951, 3.26, 0.44]), 6],\n",
       " [DenseVector([7.2, 0.23, 0.32, 8.5, 0.058, 47.0, 186.0, 0.9956, 3.19, 0.4]),\n",
       "  6]]"
      ]
     },
     "execution_count": 88,
     "metadata": {},
     "output_type": "execute_result"
    }
   ],
   "source": [
    "dataWhite=[]\n",
    "for line in linesWhite:\n",
    "    dataWhite.append(str(line).replace(\"b'\",\"\").replace(\"\\\\n'\",\"\"))\n",
    "    \n",
    "headersWhite=dataWhite[0].replace(\"\\\"\",\"\").split(\";\")\n",
    "dataWhite_bis=[[float(i) for i in elem.split(\";\")] for elem in dataWhite[1:]]\n",
    "\n",
    "dataWhite_df=[]\n",
    "len_line=len(dataWhite_bis[0])\n",
    "for elem in dataWhite_bis:\n",
    "    dataWhite_df.append([Vectors.dense(elem[:len_line-2]),int(elem[-1])])\n",
    "dataWhite_df[:4]"
   ]
  },
  {
   "cell_type": "markdown",
   "metadata": {},
   "source": [
    "#### Creating dataframe using spark"
   ]
  },
  {
   "cell_type": "code",
   "execution_count": 89,
   "metadata": {},
   "outputs": [
    {
     "name": "stdout",
     "output_type": "stream",
     "text": [
      "+----------------------------------------------------+-----+\n",
      "|features                                            |label|\n",
      "+----------------------------------------------------+-----+\n",
      "|[7.4,0.7,0.0,1.9,0.076,11.0,34.0,0.9978,3.51,0.56]  |5    |\n",
      "|[7.8,0.88,0.0,2.6,0.098,25.0,67.0,0.9968,3.2,0.68]  |5    |\n",
      "|[7.8,0.76,0.04,2.3,0.092,15.0,54.0,0.997,3.26,0.65] |5    |\n",
      "|[11.2,0.28,0.56,1.9,0.075,17.0,60.0,0.998,3.16,0.58]|6    |\n",
      "|[7.4,0.7,0.0,1.9,0.076,11.0,34.0,0.9978,3.51,0.56]  |5    |\n",
      "+----------------------------------------------------+-----+\n",
      "only showing top 5 rows\n",
      "\n"
     ]
    }
   ],
   "source": [
    "redWine=spark.createDataFrame(dataRed_df,['features','label'])\n",
    "whiteWine=spark.createDataFrame(dataWhite_df,['features','label'])\n",
    "redWine.show(5,truncate=False)"
   ]
  },
  {
   "cell_type": "code",
   "execution_count": 247,
   "metadata": {},
   "outputs": [],
   "source": [
    "# Je n'ai plus besoin car je convertis le label à int dans la construction des tableaux dataRed_df et dataWhite_df\n",
    "# redWine=redWine.select('*', redWine.quality.cast(\"int\").alias(\"quality_int\")).drop(\"quality\").withColumnRenamed(\"quality_int\",\"quality\")\n",
    "# whiteWine=whiteWine.select('*', whiteWine.quality.cast(\"int\").alias(\"quality_int\")).drop(\"quality\").withColumnRenamed(\"quality_int\",\"quality\")"
   ]
  },
  {
   "cell_type": "markdown",
   "metadata": {},
   "source": [
    "#### Spliting train and test"
   ]
  },
  {
   "cell_type": "code",
   "execution_count": 90,
   "metadata": {},
   "outputs": [],
   "source": [
    "trainW, testW=whiteWine.randomSplit([0.8,0.2],seed=42)\n",
    "trainR, testR=redWine.randomSplit([0.8,0.2],seed=42)"
   ]
  },
  {
   "cell_type": "markdown",
   "metadata": {},
   "source": [
    "#### Run Model"
   ]
  },
  {
   "cell_type": "markdown",
   "metadata": {},
   "source": [
    "##### As asked in the question, must use regression model:"
   ]
  },
  {
   "cell_type": "code",
   "execution_count": 91,
   "metadata": {},
   "outputs": [],
   "source": [
    "from pyspark.ml.regression import LinearRegression"
   ]
  },
  {
   "cell_type": "markdown",
   "metadata": {},
   "source": [
    "##### Training the model and getting results: R2, RMSE.."
   ]
  },
  {
   "cell_type": "code",
   "execution_count": 93,
   "metadata": {},
   "outputs": [
    {
     "name": "stdout",
     "output_type": "stream",
     "text": [
      "Coefficients: [0.0,0.0,0.0,0.0,0.0,0.0,0.0,-6.92746026271911,0.0,0.0]\n",
      "Intercept: 12.762047183775882\n",
      "numIterations: 11\n",
      "+-------------------+\n",
      "|          residuals|\n",
      "+-------------------+\n",
      "|-0.8782299207119024|\n",
      "|0.15502188854914944|\n",
      "|  2.108607904788931|\n",
      "| 1.0912892541321328|\n",
      "| 1.0912892541321328|\n",
      "+-------------------+\n",
      "only showing top 5 rows\n",
      "\n",
      "RMSE: 0.882786\n",
      "r2: 0.013261\n"
     ]
    }
   ],
   "source": [
    "lr = LinearRegression(maxIter=10, regParam=0.3, elasticNetParam=0.8, featuresCol=\"features\", labelCol=\"label\")\n",
    "\n",
    "# Fit the model\n",
    "lrModel = lr.fit(trainW)\n",
    "\n",
    "# Print the coefficients and intercept for linear regression\n",
    "print(\"Coefficients: %s\" % str(lrModel.coefficients))\n",
    "print(\"Intercept: %s\" % str(lrModel.intercept))\n",
    "\n",
    "# Summarize the model over the training set and print out some metrics\n",
    "trainingSummary = lrModel.summary\n",
    "print(\"numIterations: %d\" % trainingSummary.totalIterations)\n",
    "# print(\"objectiveHistory: %s\" % str(trainingSummary.objectiveHistory))\n",
    "trainingSummary.residuals.show(5)\n",
    "print(\"RMSE: %f\" % trainingSummary.rootMeanSquaredError)\n",
    "print(\"r2: %f\" % trainingSummary.r2)"
   ]
  },
  {
   "cell_type": "markdown",
   "metadata": {},
   "source": [
    "<div>very poor results ==> R2 is very low ==> Classification perhaps would better fit the data</div>"
   ]
  },
  {
   "cell_type": "markdown",
   "metadata": {},
   "source": [
    "##### Testing the model"
   ]
  },
  {
   "cell_type": "code",
   "execution_count": 103,
   "metadata": {},
   "outputs": [
    {
     "name": "stdout",
     "output_type": "stream",
     "text": [
      "+-----------------------------------------------------+-----+-----------------+\n",
      "|features                                             |label|prediction       |\n",
      "+-----------------------------------------------------+-----+-----------------+\n",
      "|[4.8,0.34,0.0,6.5,0.028,33.0,163.0,0.9939,3.36,0.61] |6    |5.876844428659359|\n",
      "|[5.0,0.17,0.56,1.5,0.026,24.0,115.0,0.9906,3.48,0.39]|7    |5.899705047526331|\n",
      "|[5.0,0.31,0.0,6.4,0.046,43.0,166.0,0.994,3.3,0.63]   |6    |5.876151682633087|\n",
      "|[5.2,0.44,0.04,1.4,0.036,43.0,119.0,0.9894,3.36,0.33]|8    |5.908017999841595|\n",
      "|[5.3,0.32,0.12,6.6,0.043,22.0,141.0,0.9937,3.36,0.6] |6    |5.878229920711902|\n",
      "+-----------------------------------------------------+-----+-----------------+\n",
      "only showing top 5 rows\n",
      "\n"
     ]
    }
   ],
   "source": [
    "predictionsW=lrModel.transform(testW)\n",
    "predictionsW.show(5,truncate=False)"
   ]
  },
  {
   "cell_type": "markdown",
   "metadata": {},
   "source": [
    "##### Plotting the results"
   ]
  },
  {
   "cell_type": "code",
   "execution_count": 104,
   "metadata": {},
   "outputs": [],
   "source": [
    "labelWhite=predictionsW.select(\"label\").rdd.map(lambda x:x[0]).collect()\n",
    "predictionWhite=predictionsW.select(\"prediction\").rdd.map(lambda x:x[0]).collect()"
   ]
  },
  {
   "cell_type": "code",
   "execution_count": 135,
   "metadata": {},
   "outputs": [
    {
     "data": {
      "text/plain": [
       "<matplotlib.legend.Legend at 0x7fcb64c05950>"
      ]
     },
     "execution_count": 135,
     "metadata": {},
     "output_type": "execute_result"
    },
    {
     "data": {
      "image/png": "[encoded data removed]",
      "text/plain": [
       "<Figure size 432x288 with 1 Axes>"
      ]
     },
     "metadata": {
      "needs_background": "light"
     },
     "output_type": "display_data"
    }
   ],
   "source": [
    "plt.plot(labelWhite,label=\"label\")\n",
    "plt.plot(predictionWhite,label=\"predictions\")\n",
    "plt.legend()\n",
    "# ==> unreadable ==> must see residual plot for more clarity"
   ]
  },
  {
   "cell_type": "markdown",
   "metadata": {},
   "source": [
    "##### Calculation the RMSE in the test set"
   ]
  },
  {
   "cell_type": "code",
   "execution_count": 98,
   "metadata": {},
   "outputs": [],
   "source": [
    "from pyspark.sql.functions import sqrt as sqrt_ML\n",
    "from math import sqrt as sqrt_math"
   ]
  },
  {
   "cell_type": "code",
   "execution_count": 115,
   "metadata": {},
   "outputs": [
    {
     "name": "stdout",
     "output_type": "stream",
     "text": [
      "1st method 0.86552497934963\n",
      "2nd method\n",
      "+-----------------+-----------------+----------------+\n",
      "|count(prediction)|   sum(residual2)|            RMSE|\n",
      "+-----------------+-----------------+----------------+\n",
      "|              966|723.6629512223194|0.86552497934963|\n",
      "+-----------------+-----------------+----------------+\n",
      "\n"
     ]
    }
   ],
   "source": [
    "predictionsW=predictionsW.withColumn(\"residual2\", (predictionsW.label-predictionsW.prediction)**2) #RESIDUAL SQUARE (xi_x)²\n",
    "\n",
    "#############1st method\n",
    "res=predictionsW.agg({\"residual2\":\"sum\",\"prediction\":\"count\"}).rdd.map(lambda x:(x[0],x[1],sqrt_math(x[1]/x[0]))).collect()\n",
    "rmse=res[0][2]\n",
    "print(\"1st method\",rmse)\n",
    "\n",
    "#############2nd method\n",
    "res=predictionsW.agg({\"residual2\":\"sum\",\"prediction\":\"count\"})\n",
    "print(\"2nd method\")\n",
    "res.withColumn('RMSE',sqrt_ML(res['sum(residual2)']/res['count(prediction)'])).show()"
   ]
  },
  {
   "cell_type": "markdown",
   "metadata": {},
   "source": [
    "##### Plotting histogram on the residual values"
   ]
  },
  {
   "cell_type": "code",
   "execution_count": 130,
   "metadata": {},
   "outputs": [],
   "source": [
    "# predictionsW.select(\"residual\").rdd.map(lambda x:x[0]).collect()"
   ]
  },
  {
   "cell_type": "code",
   "execution_count": 118,
   "metadata": {},
   "outputs": [
    {
     "data": {
      "text/plain": [
       "<matplotlib.legend.Legend at 0x7fcb64f278d0>"
      ]
     },
     "execution_count": 118,
     "metadata": {},
     "output_type": "execute_result"
    },
    {
     "data": {
      "image/png": "[encoded data removed]",
      "text/plain": [
       "<Figure size 432x288 with 1 Axes>"
      ]
     },
     "metadata": {
      "needs_background": "light"
     },
     "output_type": "display_data"
    }
   ],
   "source": [
    "predictionsW=predictionsW.withColumn(\"residual\", (predictionsW.label-predictionsW.prediction)) #RESIDUAL (xi_x)\n",
    "residualWhite=predictionsW.select(\"residual\").rdd.map(lambda x:x[0]).collect()\n",
    "plt.hist(residualWhite,bins=20,label=\"residual\")\n",
    "# plt.plot(predictionWhite,label=\"predictions\")\n",
    "plt.legend()"
   ]
  },
  {
   "cell_type": "markdown",
   "metadata": {},
   "source": [
    "<div class=\"alert alert-block alert-info\"> \n",
    "    Conclusion The residuals are centred around 0 ==> it's the behavior we want to see\n",
    "    </div>"
   ]
  },
  {
   "cell_type": "markdown",
   "metadata": {},
   "source": [
    "### Using the model trained in WhiteWine to RedWine (whole dataset)"
   ]
  },
  {
   "cell_type": "code",
   "execution_count": 120,
   "metadata": {},
   "outputs": [
    {
     "name": "stdout",
     "output_type": "stream",
     "text": [
      "+--------------------+-----+-----------------+\n",
      "|            features|label|       prediction|\n",
      "+--------------------+-----+-----------------+\n",
      "|[7.4,0.7,0.0,1.9,...|    5|5.849827333634754|\n",
      "|[7.8,0.88,0.0,2.6...|    5|5.856754793897473|\n",
      "|[7.8,0.76,0.04,2....|    5|5.855369301844929|\n",
      "|[11.2,0.28,0.56,1...|    6| 5.84844184158221|\n",
      "|[7.4,0.7,0.0,1.9,...|    5|5.849827333634754|\n",
      "+--------------------+-----+-----------------+\n",
      "only showing top 5 rows\n",
      "\n"
     ]
    }
   ],
   "source": [
    "predictionsRed=lrModel.transform(redWine)\n",
    "predictionsRed.show(5)"
   ]
  },
  {
   "cell_type": "code",
   "execution_count": 122,
   "metadata": {},
   "outputs": [
    {
     "name": "stdout",
     "output_type": "stream",
     "text": [
      "1st method 0.8349406288048624\n",
      "2nd method\n",
      "+-----------------+------------------+------------------+\n",
      "|count(prediction)|    sum(residual2)|              RMSE|\n",
      "+-----------------+------------------+------------------+\n",
      "|             1599|1114.7042399528655|0.8349406288048624|\n",
      "+-----------------+------------------+------------------+\n",
      "\n"
     ]
    }
   ],
   "source": [
    "predictionsRed=predictionsRed.withColumn(\"residual2\", (predictionsRed.label-predictionsRed.prediction)**2)\n",
    "\n",
    "#############1st method\n",
    "res=predictionsRed.agg({\"residual2\":\"sum\",\"prediction\":\"count\"}).rdd.map(lambda x:(x[0],x[1],sqrt_math(x[1]/x[0]))).collect()\n",
    "rmse=res[0][2]\n",
    "print(\"1st method\",rmse)\n",
    "\n",
    "#############2nd method\n",
    "res=predictionsRed.agg({\"residual2\":\"sum\",\"prediction\":\"count\"})\n",
    "print(\"2nd method\")\n",
    "res.withColumn('RMSE',sqrt_ML(res['sum(residual2)']/res['count(prediction)'])).show()"
   ]
  },
  {
   "cell_type": "code",
   "execution_count": 125,
   "metadata": {},
   "outputs": [
    {
     "data": {
      "text/plain": [
       "<matplotlib.legend.Legend at 0x7fcb64bf51d0>"
      ]
     },
     "execution_count": 125,
     "metadata": {},
     "output_type": "execute_result"
    },
    {
     "data": {
      "image/png": "[encoded data removed]",
      "text/plain": [
       "<Figure size 432x288 with 1 Axes>"
      ]
     },
     "metadata": {
      "needs_background": "light"
     },
     "output_type": "display_data"
    }
   ],
   "source": [
    "predictionsRed=predictionsRed.withColumn(\"residual\", (predictionsRed.label-predictionsRed.prediction))\n",
    "residualRed=predictionsRed.select(\"residual\").rdd.map(lambda x:x[0]).collect()\n",
    "plt.hist(residualRed,bins=20,label=\"residual\")\n",
    "# plt.plot(predictionWhite,label=\"predictions\")\n",
    "plt.legend()"
   ]
  },
  {
   "cell_type": "markdown",
   "metadata": {},
   "source": [
    "<div class=\"alert alert-block alert-info\"> \n",
    "    Conclusion: \n",
    "    If we look only on the RMSE, the Red RMSE is lower than the White one ==> we might conclude that the model predict well, but if we have a look on the residual plot: \n",
    "    The residuals are clearly NOT centred around 0 ==> must train a model only for Red Wine\n",
    "    </div>"
   ]
  },
  {
   "cell_type": "markdown",
   "metadata": {},
   "source": [
    "### Training a model only for Red Wine"
   ]
  },
  {
   "cell_type": "code",
   "execution_count": 127,
   "metadata": {},
   "outputs": [
    {
     "name": "stdout",
     "output_type": "stream",
     "text": [
      "Coefficients: [0.0,-0.40668878864381275,0.0,0.0,0.0,0.0,0.0,0.0,0.0,0.0]\n",
      "Intercept: 5.87444334538895\n",
      "numIterations: 11\n",
      "+-------------------+\n",
      "|          residuals|\n",
      "+-------------------+\n",
      "|-1.6629651752941674|\n",
      "| 0.2638308427499467|\n",
      "| 0.2638308427499467|\n",
      "| 1.3207672731600804|\n",
      "|  1.465141793128634|\n",
      "+-------------------+\n",
      "only showing top 5 rows\n",
      "\n",
      "RMSE: 0.786418\n",
      "r2: 0.063017\n"
     ]
    }
   ],
   "source": [
    "lr = LinearRegression(maxIter=10, regParam=0.3, elasticNetParam=0.8, featuresCol=\"features\", labelCol=\"label\")\n",
    "\n",
    "# Fit the model\n",
    "lrModelR = lr.fit(trainR)\n",
    "\n",
    "# Print the coefficients and intercept for linear regression\n",
    "print(\"Coefficients: %s\" % str(lrModelR.coefficients))\n",
    "print(\"Intercept: %s\" % str(lrModelR.intercept))\n",
    "\n",
    "# Summarize the model over the training set and print out some metrics\n",
    "trainingSummary = lrModelR.summary\n",
    "print(\"numIterations: %d\" % trainingSummary.totalIterations)\n",
    "# print(\"objectiveHistory: %s\" % str(trainingSummary.objectiveHistory))\n",
    "trainingSummary.residuals.show(5)\n",
    "print(\"RMSE: %f\" % trainingSummary.rootMeanSquaredError)\n",
    "print(\"r2: %f\" % trainingSummary.r2)"
   ]
  },
  {
   "cell_type": "code",
   "execution_count": 128,
   "metadata": {},
   "outputs": [
    {
     "name": "stdout",
     "output_type": "stream",
     "text": [
      "+----------------------------------------------------+-----+-----------------+\n",
      "|features                                            |label|prediction       |\n",
      "+----------------------------------------------------+-----+-----------------+\n",
      "|[4.7,0.6,0.17,2.3,0.058,17.0,106.0,0.9932,3.85,0.6] |6    |5.630430072202662|\n",
      "|[5.0,1.02,0.04,1.4,0.045,41.0,85.0,0.9938,3.75,0.48]|4    |5.45962078097226 |\n",
      "|[5.2,0.32,0.25,1.8,0.103,13.0,50.0,0.9957,3.38,0.55]|5    |5.744302933022929|\n",
      "|[5.7,1.13,0.09,1.5,0.172,7.0,19.0,0.994,3.5,0.48]   |4    |5.414885014221442|\n",
      "|[6.1,0.38,0.15,1.8,0.072,6.0,19.0,0.9955,3.42,0.57] |5    |5.719901605704301|\n",
      "+----------------------------------------------------+-----+-----------------+\n",
      "only showing top 5 rows\n",
      "\n"
     ]
    }
   ],
   "source": [
    "predictionsR=lrModelR.transform(testR)\n",
    "predictionsR.show(5,truncate=False)"
   ]
  },
  {
   "cell_type": "code",
   "execution_count": 129,
   "metadata": {},
   "outputs": [
    {
     "name": "stdout",
     "output_type": "stream",
     "text": [
      "1st method 0.7642259582544553\n",
      "2nd method\n",
      "+-----------------+------------------+------------------+\n",
      "|count(prediction)|    sum(residual2)|              RMSE|\n",
      "+-----------------+------------------+------------------+\n",
      "|              313|182.80493167949135|0.7642259582544553|\n",
      "+-----------------+------------------+------------------+\n",
      "\n"
     ]
    }
   ],
   "source": [
    "predictionsR=predictionsR.withColumn(\"residual2\", (predictionsR.label-predictionsR.prediction)**2) #RESIDUAL SQUARE (xi_x)²\n",
    "\n",
    "#############1st method\n",
    "res=predictionsR.agg({\"residual2\":\"sum\",\"prediction\":\"count\"}).rdd.map(lambda x:(x[0],x[1],sqrt_math(x[1]/x[0]))).collect()\n",
    "rmse=res[0][2]\n",
    "print(\"1st method\",rmse)\n",
    "\n",
    "#############2nd method\n",
    "res=predictionsR.agg({\"residual2\":\"sum\",\"prediction\":\"count\"})\n",
    "print(\"2nd method\")\n",
    "res.withColumn('RMSE',sqrt_ML(res['sum(residual2)']/res['count(prediction)'])).show()"
   ]
  },
  {
   "cell_type": "markdown",
   "metadata": {},
   "source": [
    "<div class=\"alert alert-block alert-info\"> \n",
    "    Conclusion: \n",
    "The rmse is lower than the White model used for the red wine dataset\n",
    "    </div>"
   ]
  }
 ],
 "metadata": {
  "kernelspec": {
   "display_name": "Python 3",
   "language": "python",
   "name": "python3"
  },
  "language_info": {
   "codemirror_mode": {
    "name": "ipython",
    "version": 3
   },
   "file_extension": ".py",
   "mimetype": "text/x-python",
   "name": "python",
   "nbconvert_exporter": "python",
   "pygments_lexer": "ipython3",
   "version": "3.6.5"
  }
 },
 "nbformat": 4,
 "nbformat_minor": 4
}
